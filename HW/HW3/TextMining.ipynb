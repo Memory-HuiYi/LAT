{
 "cells": [
  {
   "cell_type": "code",
   "execution_count": 2,
   "id": "98db756c",
   "metadata": {},
   "outputs": [],
   "source": [
    "import openai\n",
    "import pandas as pd"
   ]
  },
  {
   "cell_type": "code",
   "execution_count": 3,
   "id": "f92744a5",
   "metadata": {},
   "outputs": [],
   "source": [
    "with open('01.txt', 'r', encoding=\"utf-8-sig\") as fh:\n",
    "    tmp = fh.read()\n",
    "    itemlist = tmp.split(',')"
   ]
  },
  {
   "cell_type": "code",
   "execution_count": 4,
   "id": "671f93dd",
   "metadata": {},
   "outputs": [],
   "source": [
    "itemlist = str(itemlist)"
   ]
  },
  {
   "cell_type": "code",
   "execution_count": null,
   "id": "81cd9f57",
   "metadata": {},
   "outputs": [],
   "source": [
    "keyfile = open(\"key.txt\", \"r\")\n",
    "key = keyfile.readline()\n",
    "openai.api_key = key"
   ]
  },
  {
   "cell_type": "markdown",
   "id": "e07c297b",
   "metadata": {},
   "source": [
    "分段讓ChatGPT幫忙摘要"
   ]
  },
  {
   "cell_type": "code",
   "execution_count": 20,
   "id": "0c6fcb13",
   "metadata": {},
   "outputs": [],
   "source": [
    "data = [itemlist[0:3200], itemlist[3201:6400], \n",
    "        itemlist[6401:9600], itemlist[9601:12800], itemlist[12801:16000]]"
   ]
  },
  {
   "cell_type": "code",
   "execution_count": 21,
   "id": "56642f40",
   "metadata": {},
   "outputs": [
    {
     "data": {
      "text/plain": [
       "\"['\\\\nBlockchain in education management: present and future applications \\\\nPreeti Bhaskar \\\\nUniversity of Technology and Applied Sciences', ' Ibra', ' Oman and ICFAI Business School', ' ICFAI University', ' Dehradun', ' India \\\\n\\\\nChandan Kumar Tiwari \\\\nSymbiosis Centre for Management Studies', ' Noida', ' India and Symbiosis International (Deemed University)', ' Pune', ' India', ' and \\\\n\\\\nAmit Joshi \\\\nICFAI Business School', ' ICFAI University', ' Dehradun', ' India \\\\nAbstract \\\\nPurpose � This paper aims to provide a systematic literature review on blockchain technology in education to offer a detailed understanding of the present scenario in terms of bene.ts', ' barriers', ' present blockchain technology application and future areas where blockchain technology can be implemented in the other .elds of education. \\\\nDesign/methodology/approach � A bibliometric analysis is conducted on for data in the publications', ' journals', ' authors and citations were collected', ' and examined by applying bibliometric measures. The data was collected from SCOPUS database on the topic �Blockchain Technology in Education�. The following research questions guided this systematic literature review (SLR: How blockchain technology has been de.ned in educational settings? How were the technology examined (i.e. the methodology)? What were the results of using this technology in an education system? \\\\nFindings � The study identi.es the bene.ts', ' barriers and present application of blockchain technology in education. The analysis shows that blockchain technology in education is still a young discipline', ' but has a lot of potential to bene.ts the educational sector at large. \\\\nPractical implications � This research provides a groundwork for education institutions', ' the policymakers and researchers to explore other areas where blockchain technology can be implemented', ' though this research has also suggested some prospective uses of blockchain technology in different functions of an education system', ' more application can be brought into the education system to exploit the potential of blockchain technology. \\\\nOriginality/value � The paper discusses the application of blockchain technology in education with the help of bibliometric analysis. This is one of the .rst known studies to review the blockchain technology by identifying its bene.ts', ' barriers', ' present blockchain technology application. Based on the analysis', ' future application areas are also identi.ed. \\\\nKeywords Systematic review', ' Education', ' Blockchain technology', ' Blockchain application \\\\nPaper type Literature review \\\\n1. Introduction \\\\nBlockchain was .rst used to a peer-to-peer ledger for record-keeping of the transactions of Bitcoin cryptocurrency. A blockchain transaction in the public ledger contains a veri.able record and once the information entered', ' it cannot be altered or erased in the future. The \\\\nBlockchain in education management \\\\nReceived 4 July 2020 Revised 19 September 2020 Accepted 10 October 2020 \\\\n\\\\nInteractive Technology and Smart Education Vol. 18 No. 1', ' 2021 pp. 1-17 � Emerald Publishing Limited 1741-5659 DOI 10.1108/ITSE-07-2020-0102 \\\\n\\\\nBlockchain tech\""
      ]
     },
     "execution_count": 21,
     "metadata": {},
     "output_type": "execute_result"
    }
   ],
   "source": [
    "data[0]"
   ]
  },
  {
   "cell_type": "code",
   "execution_count": 22,
   "id": "bb7c5fca",
   "metadata": {},
   "outputs": [],
   "source": [
    "def chatgptfn(sub_list):\n",
    "    result = ''\n",
    "    response = openai.ChatCompletion.create(\n",
    "        model=\"gpt-3.5-turbo\",\n",
    "        messages=[\n",
    "            {\"role\": \"system\", \"content\": \"You are an assistant\"},\n",
    "            {\"role\": \"user\", \"content\": f\"{sub_list} :give me a summary\"}\n",
    "        ]\n",
    "    )\n",
    "    for choice in response.choices:\n",
    "        result += choice.message.content\n",
    "    return result"
   ]
  },
  {
   "cell_type": "code",
   "execution_count": 23,
   "id": "e3c0e641",
   "metadata": {},
   "outputs": [],
   "source": [
    "keyfile = open(\"key.txt\", \"r\")\n",
    "key = keyfile.readline()\n",
    "openai.api_key = key\n",
    "for i in range(0,5):\n",
    "    data[i] = chatgptfn(data[i])"
   ]
  },
  {
   "cell_type": "markdown",
   "id": "011a4f00",
   "metadata": {},
   "source": [
    "把摘要完的內容整併在一起"
   ]
  },
  {
   "cell_type": "code",
   "execution_count": 25,
   "id": "c92c6ca8",
   "metadata": {},
   "outputs": [
    {
     "data": {
      "text/plain": [
       "\"The article provides a systematic literature review on the present and future applications of blockchain technology in education. The study identifies the benefits, barriers, and present application of blockchain technology in education, and suggests potential areas where blockchain technology can be implemented in the education system. The research is based on bibliometric analysis and aims to provide a groundwork for education institutions, policymakers, and researchers to explore other areas where blockchain technology can be implemented. This paper is one of the first known studies to review blockchain technology by identifying its benefits, barriers, and present applications, and future application areas are also identified.Blockchain technology is a decentralized and secure network that eliminates the need for intermediaries in transactions. Its progress can be classified into four generations, each with unique features and applications. Blockchain technology has been used in various sectors such as finance, government, education, health, tourism, and more. It is estimated that by 2025, blockchain technology will control 10% of the world's GDP. In the education sector, blockchain technology is in its early stages of implementation, and its application has been seen in credit transfer and grading systems. The strong cybersecurity capabilities of blockchain make it a promising technology for various sectors, and scholars worldwide are exploring its potential uses in different businesses beyond governance and society.This paper is a systematic literature review on the use of blockchain technology in education. The authors aim to provide a detailed understanding of the current state of blockchain technology in education, its potential benefits and challenges, and future applications. The study was conducted through the use of Preferred Reporting Items for Systematic Reviews and Meta-Analyses (PRISMA) diagram and formulated steps. The research questions addressed include defining blockchain technology in education, examining the methodology used to study the technology, and exploring the results of implementing the technology in an education system. The study findings are expected to provide policymakers, higher education institutions, academicians, managers, and researchers with insights into the potential benefits of blockchain technology in education.The article discusses the systematic literature review conducted to examine the current state of research on the use of blockchain technology in education. The article provides details on the stages of the review, including searching the academic database, visual examination, and analyzing the content of the articles. The study found that blockchain technology in education is a new and emerging area of research that has gained attention since 2016. The technology has been applied in various areas of research but lacks public knowledge, making it challenging to have a clear strategic vision of its future. The study identified 36 articles meeting the inclusion criteria and presents a list of those journals.The article provides a systematic review of existing studies on blockchain technology in education. It discusses the potential applications and challenges of blockchain technology in education. The study finds that most of the existing studies are qualitative or review-based and that there is a need for more quantitative research in this area. The study also identifies the areas of education where blockchain technology has been applied, including student data management, administration, and teaching and learning. Finally, the study suggests that the application of blockchain technology in education is a multidisciplinary area of research with potential for further exploration in various parts of the world.\""
      ]
     },
     "execution_count": 25,
     "metadata": {},
     "output_type": "execute_result"
    }
   ],
   "source": [
    "data1 = ''\n",
    "for i in range(0,5):\n",
    "    data1 = data1 + data[i]\n",
    "data1"
   ]
  },
  {
   "cell_type": "code",
   "execution_count": 26,
   "id": "18fb0e03",
   "metadata": {},
   "outputs": [],
   "source": [
    "with open('02.txt', 'r', encoding=\"utf-8-sig\") as fh:\n",
    "    tmp = fh.read()\n",
    "    itemlist = tmp.split(',')"
   ]
  },
  {
   "cell_type": "code",
   "execution_count": 27,
   "id": "a9cd0069",
   "metadata": {},
   "outputs": [],
   "source": [
    "itemlist = str(itemlist)"
   ]
  },
  {
   "cell_type": "code",
   "execution_count": 28,
   "id": "222dc2e8",
   "metadata": {},
   "outputs": [],
   "source": [
    "data = [itemlist[0:3200], itemlist[3201:6400], \n",
    "        itemlist[6401:9600], itemlist[9601:12800], itemlist[12801:16000]]"
   ]
  },
  {
   "cell_type": "code",
   "execution_count": 29,
   "id": "fae86f1f",
   "metadata": {},
   "outputs": [
    {
     "data": {
      "text/plain": [
       "'[\\'Jurnal Teknologi dan Informasi (JATI) Volume 10 Nomor 1 Edisi Maret 2020 P-ISSN 2088-2270\\', \\' E-ISSN 2655-6839 DOI 10.34010/jati.v10i1 https://ojs.unikom.ac.id/index.php/jati 40 Implementasi Arduino dan ESP32 CAM untuk Smart Home M F Wicaksono1 \\', \\' M D Rahmatya2 Program Studi Teknik Komputer\\', \\' Universitas Komputer Indonesia1 Program Studi Manajemen Informatika\\', \\' Universitas Komputer Indonesia2 Jl. Dipatiukur No. 112-116\\', \\' Bandung\\', \\' 40132\\', \\' Indonesia12 mfajarw@email.unikom.ac.id* 1 \\', \\' myrna@unikom.ac.id2 diterima: 14 Februari 2020 direvisi: 25 Februari 2020 dipublikasi: 1 Maret 2020 Abstrak Penelitian ini mendeskripsikan tentang implementasi smart home dengan memanfaatkan Arduino dan ESP32 CAM dengan teknologi IoT. Tujuan dari penelitian ini adalah membuat perangkat untuk mengontrol peralatan rumah dan memonitor keamanan rumah. Metode yang digunakan pada penelitian ini adalah metode eksperimental. Pada penelitian ini Arduino digunakan sebagai otak utama dari sistem dimana Arduino akan membaca data dari sensor suhu\\', \\' sensor PIR serta LDR dan mengontrol aktif tidaknya lampu\\', \\' kipas serta sensor PIR. Data sensor akan terus dikirim ke server oleh Arduino melalui modul ESP32 CAM. Alat ini juga dapat mengirimkan foto secara otomatis ketika ada gerakan yang terdeteksi. Foto yang diambil secara otomatis akan dikirim ke pemilik rumah melalui aplikasi Line. Proses pengambilan foto\\', \\' pengaktifan lampu\\', \\' kipas serta sensor PIR dapat dilakukan juga secara manual melalui antarmuka web oleh pengguna. Pengguna juga dapat melihat data-data dari sensor yang dikirim oleh Arduino melalui antarmuka web yang sudah disediakan. Dari hasil pengujian alat ini sudah berjalan dengan baik dimana data semua sensor terkirim dan dapat tersimpan di database\\', \\' pengaktifan dan penonaktifan secara manual dapat dilakukan\\', \\' gambar yang diambil terkirim ke aplikasi Line pengguna dengan persentase keberhasilannya 100%. Kata kunci: IoT; smart home; Arduino; ESP32 CAM; Line Abstract This study describes the implementation of a smart home by utilizing Arduino and ESP32 CAM with IoT technology. The purpose of this research is to make a device to control home appliances and monitor home security. The method used in this study is an experimental method. In this study\\', \\' Arduino is used as the main brain of the system where Arduino will read temperature sensor\\', \\' PIR sensor\\', \\' LDR and control whether or not the lamp\\', \\' fan and PIR sensors are active. Sensor data will continue to be sent to the server by the Arduino through the ESP32 CAM module. This tool can also send photos automatically when any movement is detected. Photos taken automatically will be sent to homeowners via the Line application. The process of taking photos\\', \\' activating lights\\', \\' fans and PIR sensors can also be done manually via the web interface by the user. Users can also view data from Arduino sent sensors via the web interface that has been provided. From the results of testing this tool has been running well where all sensor data is sent and can be stored in a database\\', \\' manual activation and deactivation can be done\\', \" the captured image is sent to the user\\'s Line application w'"
      ]
     },
     "execution_count": 29,
     "metadata": {},
     "output_type": "execute_result"
    }
   ],
   "source": [
    "data[0]"
   ]
  },
  {
   "cell_type": "code",
   "execution_count": 22,
   "id": "9b84c863",
   "metadata": {},
   "outputs": [],
   "source": [
    "def chatgptfn(sub_list):\n",
    "    result = ''\n",
    "    response = openai.ChatCompletion.create(\n",
    "        model=\"gpt-3.5-turbo\",\n",
    "        messages=[\n",
    "            {\"role\": \"system\", \"content\": \"You are an assistant\"},\n",
    "            {\"role\": \"user\", \"content\": f\"{sub_list} :give me a summary\"}\n",
    "        ]\n",
    "    )\n",
    "    for choice in response.choices:\n",
    "        result += choice.message.content\n",
    "    return result"
   ]
  },
  {
   "cell_type": "code",
   "execution_count": 23,
   "id": "b97a3ad8",
   "metadata": {},
   "outputs": [],
   "source": [
    "keyfile = open(\"key.txt\", \"r\")\n",
    "key = keyfile.readline()\n",
    "openai.api_key = key\n",
    "for i in range(0,5):\n",
    "    data[i] = chatgptfn(data[i])"
   ]
  },
  {
   "cell_type": "markdown",
   "id": "ed8a7831",
   "metadata": {},
   "source": [
    "把摘要完的內容整併在一起"
   ]
  },
  {
   "cell_type": "code",
   "execution_count": 25,
   "id": "056ac99f",
   "metadata": {},
   "outputs": [
    {
     "data": {
      "text/plain": [
       "\"The article provides a systematic literature review on the present and future applications of blockchain technology in education. The study identifies the benefits, barriers, and present application of blockchain technology in education, and suggests potential areas where blockchain technology can be implemented in the education system. The research is based on bibliometric analysis and aims to provide a groundwork for education institutions, policymakers, and researchers to explore other areas where blockchain technology can be implemented. This paper is one of the first known studies to review blockchain technology by identifying its benefits, barriers, and present applications, and future application areas are also identified.Blockchain technology is a decentralized and secure network that eliminates the need for intermediaries in transactions. Its progress can be classified into four generations, each with unique features and applications. Blockchain technology has been used in various sectors such as finance, government, education, health, tourism, and more. It is estimated that by 2025, blockchain technology will control 10% of the world's GDP. In the education sector, blockchain technology is in its early stages of implementation, and its application has been seen in credit transfer and grading systems. The strong cybersecurity capabilities of blockchain make it a promising technology for various sectors, and scholars worldwide are exploring its potential uses in different businesses beyond governance and society.This paper is a systematic literature review on the use of blockchain technology in education. The authors aim to provide a detailed understanding of the current state of blockchain technology in education, its potential benefits and challenges, and future applications. The study was conducted through the use of Preferred Reporting Items for Systematic Reviews and Meta-Analyses (PRISMA) diagram and formulated steps. The research questions addressed include defining blockchain technology in education, examining the methodology used to study the technology, and exploring the results of implementing the technology in an education system. The study findings are expected to provide policymakers, higher education institutions, academicians, managers, and researchers with insights into the potential benefits of blockchain technology in education.The article discusses the systematic literature review conducted to examine the current state of research on the use of blockchain technology in education. The article provides details on the stages of the review, including searching the academic database, visual examination, and analyzing the content of the articles. The study found that blockchain technology in education is a new and emerging area of research that has gained attention since 2016. The technology has been applied in various areas of research but lacks public knowledge, making it challenging to have a clear strategic vision of its future. The study identified 36 articles meeting the inclusion criteria and presents a list of those journals.The article provides a systematic review of existing studies on blockchain technology in education. It discusses the potential applications and challenges of blockchain technology in education. The study finds that most of the existing studies are qualitative or review-based and that there is a need for more quantitative research in this area. The study also identifies the areas of education where blockchain technology has been applied, including student data management, administration, and teaching and learning. Finally, the study suggests that the application of blockchain technology in education is a multidisciplinary area of research with potential for further exploration in various parts of the world.\""
      ]
     },
     "execution_count": 25,
     "metadata": {},
     "output_type": "execute_result"
    }
   ],
   "source": [
    "data1 = ''\n",
    "for i in range(0,5):\n",
    "    data1 = data1 + data[i]\n",
    "data1"
   ]
  },
  {
   "cell_type": "code",
   "execution_count": 31,
   "id": "0333a030",
   "metadata": {},
   "outputs": [],
   "source": []
  },
  {
   "cell_type": "code",
   "execution_count": 32,
   "id": "a2f45d39",
   "metadata": {},
   "outputs": [
    {
     "data": {
      "text/plain": [
       "\"This paper is a systematic literature review of blockchain technology in education. The authors explore the benefits and barriers of using blockchain in education, present applications of the technology, and identify future areas where it could be implemented. The data was collected from SCOPUS database and analyzed using bibliometric measures. The paper provides a groundwork for education institutions, policymakers, and researchers to explore the potential of blockchain in education. It is one of the first studies to review blockchain technology by identifying its benefits, barriers, and present applications, and also suggests future application areas.Blockchain technology eliminates the need for third-party intermediaries and allows for direct verification and transactions. It can be classified into four generations, each with different applications and areas of focus. Blockchain technology provides high reliability, security, transparency, and immutability. It has been used in various sectors such as finance, government, education, health, tourism, energy, public, banking, and business. The use of blockchain technology is expected to control 10% of the world's GDP by 2025. Blockchain technology in education is still in its early stages, but it offers opportunities for a globally trusted, decentralized higher education credit transfer and grading system. The application of blockchain technology in education has strong cybersecurity capabilities, providing a highly efficient and secure system for transactions.This paper is a systematic literature review on the use of blockchain technology in the education sector. It aims to provide a detailed understanding of its benefits, challenges, and potential applications. The study covers the definitions of blockchain in educational settings, the methodology used to examine the technology, and the results of using it. The research questions focus on how blockchain technology has been defined in education, how it was examined, and what its outcomes were. The authors followed a well-formulated step-by-step approach using the Preferred Reporting Items for Systematic Reviews and Meta-Analyses (PRISMA) diagram. The study offers policy-makers, higher education institutions, academics, managers, and researchers insights on how blockchain technology can be used for the benefit of education.The article discusses the potential applications of blockchain technology in the field of education. The literature review shows that the technology can be used for student data management, teaching and learning, and administration activities. However, there are issues with scalability, security of smart contracts, and user adoption. The study also reveals that the area of blockchain technology in education is new and has started to receive attention in recent years. The authors suggest the need for more quantitative studies and interdisciplinary research in the field. The article presents tables and graphs to illustrate the distribution of publications year-wise, area-wise, and country-wise.\""
      ]
     },
     "execution_count": 32,
     "metadata": {},
     "output_type": "execute_result"
    }
   ],
   "source": []
  },
  {
   "cell_type": "code",
   "execution_count": 34,
   "id": "1edc9b4a",
   "metadata": {},
   "outputs": [
    {
     "data": {
      "text/plain": [
       "['This paper is a systematic literature review of blockchain technology in education. The authors explore the benefits and barriers of using blockchain in education, present applications of the technology, and identify future areas where it could be implemented. The data was collected from SCOPUS database and analyzed using bibliometric measures. The paper provides a groundwork for education institutions, policymakers, and researchers to explore the potential of blockchain in education. It is one of the first studies to review blockchain technology by identifying its benefits, barriers, and present applications, and also suggests future application areas.',\n",
       " \"Blockchain technology eliminates the need for third-party intermediaries and allows for direct verification and transactions. It can be classified into four generations, each with different applications and areas of focus. Blockchain technology provides high reliability, security, transparency, and immutability. It has been used in various sectors such as finance, government, education, health, tourism, energy, public, banking, and business. The use of blockchain technology is expected to control 10% of the world's GDP by 2025. Blockchain technology in education is still in its early stages, but it offers opportunities for a globally trusted, decentralized higher education credit transfer and grading system. The application of blockchain technology in education has strong cybersecurity capabilities, providing a highly efficient and secure system for transactions.\",\n",
       " 'This paper is a systematic literature review on the use of blockchain technology in the education sector. It aims to provide a detailed understanding of its benefits, challenges, and potential applications. The study covers the definitions of blockchain in educational settings, the methodology used to examine the technology, and the results of using it. The research questions focus on how blockchain technology has been defined in education, how it was examined, and what its outcomes were. The authors followed a well-formulated step-by-step approach using the Preferred Reporting Items for Systematic Reviews and Meta-Analyses (PRISMA) diagram. The study offers policy-makers, higher education institutions, academics, managers, and researchers insights on how blockchain technology can be used for the benefit of education.',\n",
       " 'The article describes the process of conducting a systematic literature review on the use of blockchain technology in education. The researchers searched an academic database and identified 204 relevant documents, which they narrowed down to 36 peer-reviewed articles for analysis. They performed a content analysis of these articles and found that blockchain technology is a new area of research with many potential applications, including education. However, the technology is still immature and lacks widespread public knowledge, making it difficult to predict its future.',\n",
       " 'The article discusses the potential applications of blockchain technology in the field of education. The literature review shows that the technology can be used for student data management, teaching and learning, and administration activities. However, there are issues with scalability, security of smart contracts, and user adoption. The study also reveals that the area of blockchain technology in education is new and has started to receive attention in recent years. The authors suggest the need for more quantitative studies and interdisciplinary research in the field. The article presents tables and graphs to illustrate the distribution of publications year-wise, area-wise, and country-wise.']"
      ]
     },
     "execution_count": 34,
     "metadata": {},
     "output_type": "execute_result"
    }
   ],
   "source": [
    "data1"
   ]
  },
  {
   "cell_type": "code",
   "execution_count": 9,
   "id": "775265fa",
   "metadata": {},
   "outputs": [],
   "source": [
    "import gensim\n",
    "from gensim import corpora\n",
    "from pprint import pprint"
   ]
  },
  {
   "cell_type": "code",
   "execution_count": 12,
   "id": "bc0dec33",
   "metadata": {},
   "outputs": [
    {
     "name": "stdout",
     "output_type": "stream",
     "text": [
      "Defaulting to user installation because normal site-packages is not writeable\n",
      "Requirement already satisfied: pyLDAvis in c:\\users\\pang\\appdata\\roaming\\python\\python39\\site-packages (3.4.0)\n",
      "Requirement already satisfied: jinja2 in d:\\program files\\anaconda3\\lib\\site-packages (from pyLDAvis) (2.11.3)\n",
      "Requirement already satisfied: numpy>=1.22.0 in c:\\users\\pang\\appdata\\roaming\\python\\python39\\site-packages (from pyLDAvis) (1.24.2)\n",
      "Requirement already satisfied: setuptools in d:\\program files\\anaconda3\\lib\\site-packages (from pyLDAvis) (63.4.1)\n",
      "Requirement already satisfied: scikit-learn>=1.0.0 in d:\\program files\\anaconda3\\lib\\site-packages (from pyLDAvis) (1.0.2)\n",
      "Requirement already satisfied: joblib>=1.2.0 in c:\\users\\pang\\appdata\\roaming\\python\\python39\\site-packages (from pyLDAvis) (1.2.0)\n",
      "Requirement already satisfied: pandas>=1.3.4 in d:\\program files\\anaconda3\\lib\\site-packages (from pyLDAvis) (1.4.4)\n",
      "Requirement already satisfied: numexpr in d:\\program files\\anaconda3\\lib\\site-packages (from pyLDAvis) (2.8.3)\n",
      "Requirement already satisfied: funcy in c:\\users\\pang\\appdata\\roaming\\python\\python39\\site-packages (from pyLDAvis) (2.0)\n",
      "Requirement already satisfied: scipy in d:\\program files\\anaconda3\\lib\\site-packages (from pyLDAvis) (1.9.1)\n",
      "Requirement already satisfied: gensim in d:\\program files\\anaconda3\\lib\\site-packages (from pyLDAvis) (4.1.2)\n",
      "Requirement already satisfied: pytz>=2020.1 in d:\\program files\\anaconda3\\lib\\site-packages (from pandas>=1.3.4->pyLDAvis) (2022.1)\n",
      "Requirement already satisfied: python-dateutil>=2.8.1 in d:\\program files\\anaconda3\\lib\\site-packages (from pandas>=1.3.4->pyLDAvis) (2.8.2)\n",
      "Requirement already satisfied: threadpoolctl>=2.0.0 in d:\\program files\\anaconda3\\lib\\site-packages (from scikit-learn>=1.0.0->pyLDAvis) (2.2.0)\n",
      "Requirement already satisfied: smart-open>=1.8.1 in d:\\program files\\anaconda3\\lib\\site-packages (from gensim->pyLDAvis) (5.2.1)\n",
      "Requirement already satisfied: MarkupSafe>=0.23 in d:\\program files\\anaconda3\\lib\\site-packages (from jinja2->pyLDAvis) (2.0.1)\n",
      "Requirement already satisfied: packaging in d:\\program files\\anaconda3\\lib\\site-packages (from numexpr->pyLDAvis) (21.3)\n",
      "Requirement already satisfied: six>=1.5 in d:\\program files\\anaconda3\\lib\\site-packages (from python-dateutil>=2.8.1->pandas>=1.3.4->pyLDAvis) (1.16.0)\n",
      "Requirement already satisfied: pyparsing!=3.0.5,>=2.0.2 in d:\\program files\\anaconda3\\lib\\site-packages (from packaging->numexpr->pyLDAvis) (3.0.9)\n"
     ]
    }
   ],
   "source": [
    "!pip install pyLDAvis"
   ]
  },
  {
   "cell_type": "code",
   "execution_count": 14,
   "id": "d905021c",
   "metadata": {},
   "outputs": [],
   "source": [
    "# 創建詞袋\n",
    "texts = [[word for word in document.lower().split()] for document in data]\n",
    "dictionary = corpora.Dictionary(texts)\n",
    "corpus = [dictionary.doc2bow(text) for text in texts]"
   ]
  },
  {
   "cell_type": "code",
   "execution_count": 15,
   "id": "911dea5e",
   "metadata": {},
   "outputs": [],
   "source": [
    "# 訓練 LDA 模型\n",
    "lda_model = gensim.models.ldamodel.LdaModel(corpus=corpus, id2word=dictionary, \n",
    "                                            num_topics=3, random_state=100, update_every=1, \n",
    "                                            chunksize=100, passes=10, alpha='auto', per_word_topics=True)"
   ]
  },
  {
   "cell_type": "code",
   "execution_count": 16,
   "id": "9b194905",
   "metadata": {},
   "outputs": [
    {
     "name": "stderr",
     "output_type": "stream",
     "text": [
      "C:\\Users\\Pang\\AppData\\Roaming\\Python\\Python39\\site-packages\\pyLDAvis\\_prepare.py:243: FutureWarning: In a future version of pandas all arguments of DataFrame.drop except for the argument 'labels' will be keyword-only.\n",
      "  default_term_info = default_term_info.sort_values(\n"
     ]
    },
    {
     "data": {
      "text/html": [
       "\n",
       "<link rel=\"stylesheet\" type=\"text/css\" href=\"https://cdn.jsdelivr.net/gh/bmabey/pyLDAvis@3.4.0/pyLDAvis/js/ldavis.v1.0.0.css\">\n",
       "\n",
       "\n",
       "<div id=\"ldavis_el1416820956826878243671635700\" style=\"background-color:white;\"></div>\n",
       "<script type=\"text/javascript\">\n",
       "\n",
       "var ldavis_el1416820956826878243671635700_data = {\"mdsDat\": {\"x\": [0.07947538530571695, -0.007903848527490782, -0.07157153677822622], \"y\": [0.0280394602411392, -0.06652156349135634, 0.03848210325021712], \"topics\": [1, 2, 3], \"cluster\": [1, 1, 1], \"Freq\": [80.43111800681997, 19.45758296814119, 0.11129902503884827]}, \"tinfo\": {\"Term\": [\"'\", \"blockchain\", \"and\", \"of\", \"the\", \"technology\", \"on\", \"is\", \"review\", \"in\", \"literature\", \"systematic\", \"study\", \"research\", \"present\", \"were\", \"\\\\nand\", \"publications\", \"for\", \"\\ufffd\", \"paper\", \"\\\\net\", \"all\", \"been\", \"from\", \"articles\", \"\\\\nal.',\", \"it\", \"application\", \"where\", \"review\", \"literature\", \"study\", \"were\", \"systematic\", \"research\", \"present\", \"publications\", \"articles\", \"all\", \"from\", \"paper\", \"\\ufffd\", \"article\", \"results\", \"future\", \"where\", \"some\", \"education.\", \"data\", \"sector.\", \"under\", \"we\", \"inclusion\", \"number\", \"purpose\", \"researchers\", \"also\", \"database\", \"india\", \"application\", \"this\", \"to\", \"the\", \"education\", \"a\", \"in\", \"can\", \"of\", \"technology\", \"'\", \"be\", \"and\", \"for\", \"has\", \"with\", \"blockchain\", \"that\", \"is\", \"been\", \"on\", \"an\", \"\\\\nal.',\", \"\\\\net\", \"network\", \"\\\\n2020)',\", \".nancial\", \"3.0\", \"whole\", \"capabilities\", \"governance\", \"banking\", \"systems\", \"platform\", \"decentralized\", \"\\\\n(andoni',\", \"srivastava',\", \"globally\", \"\\\\nbusiness\", \"unique\", \"world\\ufffds\", \"veri.cation\", \"generations',\", \"\\\\n(alketbi',\", \"trusted',\", \"change\", \"2.0',\", \"immensely\", \"organizations\", \"tamper-proofed\", \"'2019).\", \"due\", \"classi.ed\", \"credit\", \"payment\", \"'\", \"blockchain\", \"used\", \"and\", \"various\", \"such\", \"applications\", \"institutions\", \"health\", \"its\", \"on\", \"of\", \"is\", \"the\", \"\\\\nand\", \"management\", \"technology\", \"areas\", \"in\", \"for\", \"it\", \"\\\\net\", \"\\\\nal.',\", \"been\", \"a\", \"education\", \"to\", \"has\", \"by\", \"be\", \"educational\", \"that\", \"do\", \"affect\", \"cash\", \"highly\", \"supply\", \"created\", \"\\\\nbusiness\", \"government',\", \"change\", \"'2018).\", \"databases\", \"4.0\", \"(hyv\\ufffdrinen',\", \"\\\\n(morkunas\", \"world\\ufffds\", \"support\", \"veri.cation\", \"tamper-proofed\", \"\\\\n2016)',\", \"work.ow\", \"nascent\", \"allowing\", \"works\", \"grading\", \"ensures\", \"\\\\npublic\", \"\\\\n(mettler',\", \"(casey\", \"transparency\", \"immensely\", \"(tapscott\", \"(rajnak\", \"directly.\", \"one-to-one\", \"the\", \"'\", \"and\", \"in\", \"blockchain\", \"of\", \"technology\", \"education\", \"a\", \"to\", \"provide\", \"application\", \"altered\", \"\\\\nkeywords\", \"implemented',\", \"contains\", \"prospective\", \"no.\", \"they\", \"research\", \"\\\\n\\\\nchandan\", \"interest\", \"identi.es\", \"conducting\", \"record-keeping\", \"international\", \"reviews\", \"1741-5659\", \"bitcoin\", \"education\\ufffd.\", \"is\", \"for\", \"systematic\", \"present\", \"on\", \"review\", \"be\", \"can\", \"study\", \"has\", \"literature\", \"studies\", \"this\", \"that\", \"\\ufffd\", \"\\\\net\", \"paper\", \"been\", \"educational\"], \"Freq\": [125.0, 40.0, 60.0, 79.0, 145.0, 40.0, 14.0, 17.0, 13.0, 52.0, 11.0, 10.0, 10.0, 10.0, 10.0, 10.0, 9.0, 7.0, 19.0, 5.0, 5.0, 9.0, 5.0, 11.0, 5.0, 5.0, 9.0, 8.0, 14.0, 4.0, 13.294457139202482, 11.557980513960421, 10.69443299674332, 10.695229220317417, 10.684017291706006, 9.817497028948596, 9.816749626217948, 7.224765389023442, 5.498824745623924, 5.4936124548467715, 5.493307990313978, 5.482535893119474, 5.48138727182083, 4.63065966426807, 4.624186908078188, 4.622230079907507, 4.619522298399383, 4.622427138584709, 4.619092674977016, 4.617278314904043, 3.7561034906786515, 3.7600939288919837, 3.760021141452657, 3.7591614507820728, 3.758385199371204, 3.757540154953655, 3.7553751724595346, 3.756647177344354, 3.756723515390477, 3.755398251403711, 14.153686230903432, 14.160618790673452, 30.635945613465715, 132.25163852024124, 24.560307040728514, 22.834983759085723, 47.14365041963458, 9.83031560713539, 68.83998830987126, 34.98079829600383, 96.60865205670409, 12.436412174868138, 48.83148461941732, 16.788779716690886, 11.563805284409957, 7.233531837203816, 28.89713180129991, 8.967118712339435, 13.308122537110224, 8.966434332879423, 10.686996250808207, 6.361930656120721, 7.2337723908142735, 7.228569864205811, 2.0445309049734375, 2.0443159529925725, 1.4325058174497505, 1.432503884814558, 1.4323128760363566, 1.4320576608223126, 1.4318657930951368, 1.4318976815758147, 1.431903694218636, 1.4313085499479392, 1.4313609458353829, 0.8193581373007216, 0.8193636667847448, 0.8192375086541173, 0.8191099010470952, 0.8191676116813185, 0.8190899841677494, 0.8190845620523479, 0.8191603642993462, 0.8190967483909234, 0.8190917020656983, 0.8190010829488901, 0.8190978757614524, 0.8190354409078695, 0.8190407556546491, 0.8190019418978646, 0.8190562167361899, 0.8190208387753032, 0.8190704967628907, 0.8190134303403983, 2.048153307536087, 29.222907761054223, 11.31059113593545, 2.051030786600614, 11.949791758482537, 1.436634785170103, 1.4361221000009567, 1.4354190502653403, 1.4352882752839748, 1.434515006469694, 2.050537964626503, 3.91343637840418, 10.732240176638877, 3.9035206714427177, 13.149418793126628, 2.664471099928388, 2.054064379641254, 5.770991270611582, 2.056213899449904, 5.76126710927143, 2.67039849206407, 2.053845991864491, 2.055905966242551, 2.0556341088921264, 2.0567524604569067, 2.0666849169233714, 2.0712994055515517, 2.0851628419997503, 1.4464668519751747, 1.4438299859921255, 1.443226789074793, 1.4424071370158902, 1.4398538038206097, 0.0030339905595900994, 0.003033860665252593, 0.003033797407017306, 0.003033252342125878, 0.0030327708425485493, 0.0030325826032367494, 0.0030320169640649128, 0.0030321566849244056, 0.003031898738722265, 0.0030318370158810386, 0.0030321397955897418, 0.0030322669262179396, 0.003031821047782811, 0.0030318631175800647, 0.003031462379730311, 0.0030319930119175713, 0.0030314433408439624, 0.003031492473453894, 0.0030317946390049726, 0.0030315674006840395, 0.0030316785632140096, 0.0030316364934167557, 0.003031504756606377, 0.003031860046791944, 0.003031283045704061, 0.003031883384781662, 0.00303133924112667, 0.003031837937117475, 0.0030311915362180634, 0.003031061641880557, 0.00303138960205185, 0.0030313825392391724, 0.003031415396672064, 0.0030314651434396197, 0.005481270199259291, 0.004414630410133315, 0.004159290385870932, 0.004047469171848992, 0.003759577872270546, 0.00391671716322044, 0.0037537869800324934, 0.003633864719869283, 0.0035527314269317533, 0.0035651432454368898, 0.003060775508973075, 0.0033361997158602116, 0.003056182838259727, 0.0030553951811067626, 0.003054924122209044, 0.003054886965672783, 0.003054773346512317, 0.003054692891863554, 0.0030545795797818995, 0.0032426438566591233, 0.0030540553962496927, 0.0030532615975204865, 0.0030532361099790844, 0.003053241637397702, 0.0030531842136598446, 0.0030530512485342173, 0.0030529895256929908, 0.003052759216583937, 0.0030527543033229436, 0.0030525267579231984, 0.003287088601445545, 0.0032902671742293015, 0.0032488425495596075, 0.003240087118469812, 0.0032631656265910795, 0.0032564596394930524, 0.0032555718746473524, 0.003230700333342397, 0.0032299768556611555, 0.00323705747890991, 0.0032256587134057994, 0.0031885304283958043, 0.0032261460474805577, 0.003201690290887148, 0.0031632839438613092, 0.0031890506199034542, 0.0031548518667606253, 0.003194799135265441, 0.0031703931254395868], \"Total\": [125.0, 40.0, 60.0, 79.0, 145.0, 40.0, 14.0, 17.0, 13.0, 52.0, 11.0, 10.0, 10.0, 10.0, 10.0, 10.0, 9.0, 7.0, 19.0, 5.0, 5.0, 9.0, 5.0, 11.0, 5.0, 5.0, 9.0, 8.0, 14.0, 4.0, 13.517373022719521, 11.780737223942921, 10.912469872613793, 10.91746171566538, 10.908168255983027, 10.039735558600011, 10.039687789917817, 7.443434438944371, 5.710918983464168, 5.706881283810972, 5.708567536217428, 5.70068391513881, 5.6997853724217284, 4.8425596262939745, 4.837508566839674, 4.836126423286038, 4.833907426164406, 4.8380264198312615, 4.835719516382799, 4.834253149071531, 3.967500427141024, 3.972010714290129, 3.972104070896453, 3.9712227756474556, 3.970924041527607, 3.970341973021697, 3.9682369799922355, 3.969664186784663, 3.9699799341460165, 3.968613846661871, 14.994650519975945, 15.004032318231378, 32.72467359871091, 145.4065385835671, 26.635240310999936, 24.905221407436027, 52.90896499807786, 10.660165462556646, 79.57614520367336, 40.75554335359545, 125.83597444816846, 13.882894535817577, 60.78543566828573, 19.462468475929185, 13.01350919386404, 8.06234960124399, 40.21148251510763, 10.41017420645093, 17.21493029715439, 11.026381592471594, 14.603695794838977, 7.189677979775433, 9.292545252659359, 9.287664881068265, 2.3481215640259196, 2.348300371747585, 1.73115471367668, 1.7314988691480198, 1.7313928258162867, 1.7312708996406667, 1.7312871816388395, 1.7315251932115594, 1.7315394336219323, 1.731587688643348, 1.7318697161581336, 1.1145756994361526, 1.1146179871322763, 1.1146140780548734, 1.1144704212962202, 1.1146235225296524, 1.114531502832395, 1.1145351878471388, 1.1146772430560083, 1.1146187044401228, 1.114627046178175, 1.1145265049713593, 1.1146702965227129, 1.114591953555549, 1.1145997408695738, 1.114564433200237, 1.1146760509148859, 1.1146288163836557, 1.114713010580274, 1.1146844850531232, 3.2155708636596496, 125.83597444816846, 40.21148251510763, 4.081156651362972, 60.78543566828573, 2.5979066695908495, 2.5971679947875015, 2.5976431378619127, 2.5982539025554354, 2.5990531664972725, 4.950466707444892, 14.603695794838977, 79.57614520367336, 17.21493029715439, 145.4065385835671, 9.042520905097897, 5.815729130782468, 40.75554335359545, 6.683829239944888, 52.90896499807786, 19.462468475929185, 8.42609027106764, 9.287664881068265, 9.292545252659359, 11.026381592471594, 24.905221407436027, 26.635240310999936, 32.72467359871091, 13.01350919386404, 7.805699594242754, 13.882894535817577, 7.802671372153621, 10.41017420645093, 1.1146159364468322, 1.1145704631619298, 1.1147714849246289, 1.1148171592023235, 1.1146491336795215, 1.1146608837873673, 1.1144704212962202, 1.114552086867005, 1.1145265049713593, 1.1145801760705916, 1.1147043415027842, 1.114772223149538, 1.1146266480640532, 1.1146727745355933, 1.114531502832395, 1.1147282473621125, 1.1145351878471388, 1.114564433200237, 1.1147255178399207, 1.1146500619613329, 1.1147172149926914, 1.1147234074481154, 1.1146826857454908, 1.11483287612299, 1.1146356270776847, 1.1148579318205283, 1.1146771006248692, 1.1148716440828397, 1.1146362417978777, 1.114591953555549, 1.114715922655173, 1.1147274769303361, 1.1147878072886452, 1.1148723347226515, 145.4065385835671, 125.83597444816846, 60.78543566828573, 52.90896499807786, 40.21148251510763, 79.57614520367336, 40.75554335359545, 26.635240310999936, 24.905221407436027, 32.72467359871091, 1.3639724754517355, 14.994650519975945, 1.3645341658380872, 1.3643541667311672, 1.3645068819631607, 1.364394485439776, 1.3644084987726512, 1.3642875494462854, 1.3645471678217305, 10.039735558600011, 1.3645280701492077, 1.3648399908706277, 1.364463816370118, 1.364772454858079, 1.3646835550032148, 1.3644244512197623, 1.3648933348382337, 1.3644641845795287, 1.3645934846836691, 1.3645669369077758, 17.21493029715439, 19.462468475929185, 10.908168255983027, 10.039687789917817, 14.603695794838977, 13.517373022719521, 13.882894535817577, 10.660165462556646, 10.912469872613793, 13.01350919386404, 11.780737223942921, 7.186045144163588, 15.004032318231378, 10.41017420645093, 5.6997853724217284, 9.287664881068265, 5.70068391513881, 11.026381592471594, 7.802671372153621], \"Category\": [\"Default\", \"Default\", \"Default\", \"Default\", \"Default\", \"Default\", \"Default\", \"Default\", \"Default\", \"Default\", \"Default\", \"Default\", \"Default\", \"Default\", \"Default\", \"Default\", \"Default\", \"Default\", \"Default\", \"Default\", \"Default\", \"Default\", \"Default\", \"Default\", \"Default\", \"Default\", \"Default\", \"Default\", \"Default\", \"Default\", \"Topic1\", \"Topic1\", \"Topic1\", \"Topic1\", \"Topic1\", \"Topic1\", \"Topic1\", \"Topic1\", \"Topic1\", \"Topic1\", \"Topic1\", \"Topic1\", \"Topic1\", \"Topic1\", \"Topic1\", \"Topic1\", \"Topic1\", \"Topic1\", \"Topic1\", \"Topic1\", \"Topic1\", \"Topic1\", \"Topic1\", \"Topic1\", \"Topic1\", \"Topic1\", \"Topic1\", \"Topic1\", \"Topic1\", \"Topic1\", \"Topic1\", \"Topic1\", \"Topic1\", \"Topic1\", \"Topic1\", \"Topic1\", \"Topic1\", \"Topic1\", \"Topic1\", \"Topic1\", \"Topic1\", \"Topic1\", \"Topic1\", \"Topic1\", \"Topic1\", \"Topic1\", \"Topic1\", \"Topic1\", \"Topic1\", \"Topic1\", \"Topic1\", \"Topic1\", \"Topic1\", \"Topic1\", \"Topic2\", \"Topic2\", \"Topic2\", \"Topic2\", \"Topic2\", \"Topic2\", \"Topic2\", \"Topic2\", \"Topic2\", \"Topic2\", \"Topic2\", \"Topic2\", \"Topic2\", \"Topic2\", \"Topic2\", \"Topic2\", \"Topic2\", \"Topic2\", \"Topic2\", \"Topic2\", \"Topic2\", \"Topic2\", \"Topic2\", \"Topic2\", \"Topic2\", \"Topic2\", \"Topic2\", \"Topic2\", \"Topic2\", \"Topic2\", \"Topic2\", \"Topic2\", \"Topic2\", \"Topic2\", \"Topic2\", \"Topic2\", \"Topic2\", \"Topic2\", \"Topic2\", \"Topic2\", \"Topic2\", \"Topic2\", \"Topic2\", \"Topic2\", \"Topic2\", \"Topic2\", \"Topic2\", \"Topic2\", \"Topic2\", \"Topic2\", \"Topic2\", \"Topic2\", \"Topic2\", \"Topic2\", \"Topic2\", \"Topic2\", \"Topic2\", \"Topic2\", \"Topic2\", \"Topic2\", \"Topic2\", \"Topic2\", \"Topic2\", \"Topic3\", \"Topic3\", \"Topic3\", \"Topic3\", \"Topic3\", \"Topic3\", \"Topic3\", \"Topic3\", \"Topic3\", \"Topic3\", \"Topic3\", \"Topic3\", \"Topic3\", \"Topic3\", \"Topic3\", \"Topic3\", \"Topic3\", \"Topic3\", \"Topic3\", \"Topic3\", \"Topic3\", \"Topic3\", \"Topic3\", \"Topic3\", \"Topic3\", \"Topic3\", \"Topic3\", \"Topic3\", \"Topic3\", \"Topic3\", \"Topic3\", \"Topic3\", \"Topic3\", \"Topic3\", \"Topic3\", \"Topic3\", \"Topic3\", \"Topic3\", \"Topic3\", \"Topic3\", \"Topic3\", \"Topic3\", \"Topic3\", \"Topic3\", \"Topic3\", \"Topic3\", \"Topic3\", \"Topic3\", \"Topic3\", \"Topic3\", \"Topic3\", \"Topic3\", \"Topic3\", \"Topic3\", \"Topic3\", \"Topic3\", \"Topic3\", \"Topic3\", \"Topic3\", \"Topic3\", \"Topic3\", \"Topic3\", \"Topic3\", \"Topic3\", \"Topic3\", \"Topic3\", \"Topic3\", \"Topic3\", \"Topic3\", \"Topic3\", \"Topic3\", \"Topic3\", \"Topic3\", \"Topic3\", \"Topic3\", \"Topic3\", \"Topic3\", \"Topic3\", \"Topic3\", \"Topic3\", \"Topic3\", \"Topic3\", \"Topic3\"], \"logprob\": [30.0, 29.0, 28.0, 27.0, 26.0, 25.0, 24.0, 23.0, 22.0, 21.0, 20.0, 19.0, 18.0, 17.0, 16.0, 15.0, 14.0, 13.0, 12.0, 11.0, 10.0, 9.0, 8.0, 7.0, 6.0, 5.0, 4.0, 3.0, 2.0, 1.0, -4.9655, -5.1055, -5.1832, -5.1831, -5.1841, -5.2687, -5.2688, -5.5754, -5.8483, -5.8493, -5.8493, -5.8513, -5.8515, -6.0202, -6.0216, -6.022, -6.0226, -6.022, -6.0227, -6.0231, -6.2295, -6.2284, -6.2285, -6.2287, -6.2289, -6.2291, -6.2297, -6.2293, -6.2293, -6.2297, -4.9029, -4.9024, -4.1307, -2.6682, -4.3517, -4.4246, -3.6997, -5.2674, -3.3211, -3.9981, -2.9822, -5.0322, -3.6645, -4.7322, -5.105, -5.5741, -4.1891, -5.3593, -4.9645, -5.3594, -5.1838, -5.7025, -5.5741, -5.5748, -5.4185, -5.4186, -5.7743, -5.7743, -5.7744, -5.7746, -5.7747, -5.7747, -5.7747, -5.7751, -5.7751, -6.3329, -6.3329, -6.3331, -6.3332, -6.3332, -6.3333, -6.3333, -6.3332, -6.3333, -6.3333, -6.3334, -6.3333, -6.3333, -6.3333, -6.3334, -6.3333, -6.3334, -6.3333, -6.3334, -5.4168, -2.7588, -3.708, -5.4154, -3.653, -5.7714, -5.7718, -5.7723, -5.7723, -5.7729, -5.4156, -4.7693, -3.7605, -4.7718, -3.5573, -5.1537, -5.4139, -4.3809, -5.4128, -4.3826, -5.1515, -5.414, -5.413, -5.4131, -5.4126, -5.4078, -5.4055, -5.3989, -5.7646, -5.7664, -5.7668, -5.7674, -5.7692, -6.7678, -6.7679, -6.7679, -6.7681, -6.7682, -6.7683, -6.7685, -6.7684, -6.7685, -6.7685, -6.7684, -6.7684, -6.7685, -6.7685, -6.7687, -6.7685, -6.7687, -6.7686, -6.7685, -6.7686, -6.7686, -6.7686, -6.7686, -6.7685, -6.7687, -6.7685, -6.7687, -6.7685, -6.7687, -6.7688, -6.7687, -6.7687, -6.7687, -6.7686, -6.1764, -6.3928, -6.4524, -6.4796, -6.5534, -6.5124, -6.5549, -6.5874, -6.61, -6.6065, -6.759, -6.6729, -6.7605, -6.7608, -6.7609, -6.761, -6.761, -6.761, -6.7611, -6.7013, -6.7612, -6.7615, -6.7615, -6.7615, -6.7615, -6.7616, -6.7616, -6.7616, -6.7617, -6.7617, -6.6877, -6.6867, -6.6994, -6.7021, -6.695, -6.6971, -6.6973, -6.705, -6.7052, -6.703, -6.7066, -6.7181, -6.7064, -6.714, -6.7261, -6.718, -6.7288, -6.7162, -6.7238], \"loglift\": [30.0, 29.0, 28.0, 27.0, 26.0, 25.0, 24.0, 23.0, 22.0, 21.0, 20.0, 19.0, 18.0, 17.0, 16.0, 15.0, 14.0, 13.0, 12.0, 11.0, 10.0, 9.0, 8.0, 7.0, 6.0, 5.0, 4.0, 3.0, 2.0, 1.0, 0.2011, 0.1987, 0.1976, 0.1972, 0.197, 0.1954, 0.1953, 0.188, 0.1799, 0.1797, 0.1793, 0.1788, 0.1787, 0.173, 0.1727, 0.1725, 0.1724, 0.1722, 0.1719, 0.1718, 0.163, 0.1629, 0.1629, 0.1629, 0.1628, 0.1627, 0.1626, 0.1626, 0.1626, 0.1625, 0.1601, 0.1599, 0.1518, 0.1229, 0.1367, 0.131, 0.1024, 0.1367, 0.0728, 0.065, -0.0465, 0.1077, -0.0012, 0.07, 0.0997, 0.1093, -0.1126, 0.0685, -0.0396, 0.011, -0.0945, 0.0955, -0.0327, -0.0329, 1.4985, 1.4983, 1.4476, 1.4474, 1.4473, 1.4472, 1.447, 1.4469, 1.4469, 1.4465, 1.4464, 1.3292, 1.3292, 1.329, 1.329, 1.329, 1.3289, 1.3289, 1.3289, 1.3289, 1.3289, 1.3288, 1.3288, 1.3288, 1.3288, 1.3288, 1.3288, 1.3288, 1.3288, 1.3287, 1.1859, 0.1769, 0.3685, 0.9489, 0.0103, 1.0445, 1.0445, 1.0438, 1.0435, 1.0426, 0.7556, 0.3201, -0.3665, 0.153, -0.7662, 0.415, 0.5962, -0.3178, 0.4581, -0.5805, -0.3493, 0.2253, 0.129, 0.1283, -0.0422, -0.8522, -0.9171, -1.1163, -0.5599, -0.0506, -0.6268, -0.0512, -0.3413, 0.8943, 0.8943, 0.8941, 0.8939, 0.8939, 0.8938, 0.8938, 0.8938, 0.8937, 0.8936, 0.8936, 0.8936, 0.8936, 0.8936, 0.8936, 0.8936, 0.8936, 0.8935, 0.8935, 0.8935, 0.8935, 0.8934, 0.8934, 0.8934, 0.8934, 0.8934, 0.8934, 0.8934, 0.8934, 0.8934, 0.8934, 0.8934, 0.8933, 0.8933, -3.3852, -3.4571, -2.7891, -2.6775, -2.4769, -3.1185, -2.4919, -2.099, -2.0544, -2.324, 0.7012, -1.6099, 0.6993, 0.6992, 0.6989, 0.699, 0.6989, 0.699, 0.6988, -1.2372, 0.6986, 0.6981, 0.6984, 0.6982, 0.6982, 0.6984, 0.698, 0.6982, 0.6981, 0.6981, -1.7628, -1.8846, -1.3183, -1.238, -1.6056, -1.5304, -1.5573, -1.3009, -1.3245, -1.4984, -1.4024, -0.9196, -1.6441, -1.2862, -0.6959, -1.176, -0.6987, -1.3458, -1.0077]}, \"token.table\": {\"Topic\": [1, 2, 2, 2, 2, 2, 2, 2, 2, 1, 2, 2, 2, 2, 2, 2, 2, 2, 2, 1, 1, 2, 1, 2, 2, 1, 2, 1, 2, 1, 2, 2, 1, 2, 1, 1, 1, 2, 1, 2, 1, 2, 1, 2, 1, 2, 1, 1, 2, 1, 2, 1, 2, 1, 1, 2, 1, 2, 1, 2, 2, 2, 2, 2, 1, 1, 2, 2, 1, 1, 2, 2, 2, 2, 2, 1, 2, 1, 1, 2, 1, 2, 1, 2, 1, 1, 2, 2, 2, 2, 2, 1, 2, 1, 2, 2, 1, 2, 1, 1, 2, 1, 1, 1, 2, 1, 1, 1, 2, 1, 2, 1, 2, 1, 1, 2, 2, 2, 1, 1, 1, 2, 1, 2, 2, 2, 1, 1, 2, 2, 1, 1, 1, 1, 1, 1, 1, 1, 1, 1, 1, 1, 1, 2, 1, 2, 1, 1, 2, 2, 2, 1, 2, 2, 1, 2, 1, 2, 1, 2, 1, 1, 2, 1, 2, 2, 2, 1, 2, 1, 2, 1, 2, 2, 1, 1, 1, 2, 1, 2, 2, 2, 2, 1], \"Freq\": [0.7708447478980192, 0.2304587390622944, 0.8971988031632327, 0.8971216338408241, 0.8969642427516039, 0.897161396362501, 0.8970802466928821, 0.8970895451265036, 0.5776491217680764, 0.7328884197192458, 0.8971262651562221, 0.5775343073091627, 0.8970442384855312, 0.8971677902196193, 0.897202406714847, 0.8971207890064458, 0.8971242707678319, 0.8970818232794813, 0.8516798038538899, 0.73285410676136, 0.7532920001650492, 0.2152262857614426, 0.6635317809016492, 0.3317658904508246, 0.8972871606919081, 0.7536878310788989, 0.21533938030825683, 0.7329475178691196, 0.8969752750173569, 0.923501125476155, 0.0803044456935787, 0.8972066217896136, 0.8761352744771086, 0.8970835216327373, 1.007641909186255, 0.7328508329330157, 0.8345297267663451, 0.13908828779439084, 0.8061141531895826, 0.1974157109852039, 0.9336663086178056, 0.06669045061555755, 0.38496434919197076, 0.38496434919197076, 0.7480741683402474, 0.29922966733609896, 1.0325118090133905, 0.8755158345753778, 0.5775255271598113, 0.86437305772512, 0.07203108814376, 0.816224245870909, 0.18138316574909089, 0.7328189759251366, 0.7211870387793977, 0.27355370436459914, 0.7686690894978097, 0.1281115149163016, 0.9380717433631356, 0.09380717433631355, 0.5776103556107566, 0.8970448325269204, 0.8972420086372891, 0.8970918886821289, 0.7327228773121661, 0.7329258588125096, 0.8971338409240887, 0.8971148458681044, 1.0342859270744444, 1.007561767654234, 0.8970988653833123, 0.5774106393050943, 0.8970316982854084, 0.897170018210753, 0.8971596510885463, 0.9386061363852382, 0.07508849091081905, 1.0339722936908644, 0.7689674104964818, 0.12816123508274696, 0.7328332329860525, 0.8971541692254781, 0.8734760454988163, 0.15414283155861466, 0.8758764730868133, 1.0338852962827663, 0.8971206743742177, 0.8971715140590294, 0.5776049234381775, 0.8972214145782906, 0.8969954343987955, 0.9221186861463996, 0.0768432238455333, 0.3847554997682843, 0.3847554997682843, 0.8970080804241677, 0.7328886174939393, 0.8971893227920759, 0.7328654865860899, 0.8883182651882808, 0.11340233172616351, 1.007246439189716, 1.0079085934159426, 0.38487385663752094, 0.38487385663752094, 0.7326866201818301, 0.7329097621389182, 0.7551584453495515, 0.2323564447229389, 0.7120740232990361, 0.23735800776634536, 0.6060034694281188, 0.40400231295207917, 1.0186119740971264, 0.6877899417337249, 0.34389497086686244, 0.8970885050936945, 0.8517446586414992, 0.7329833072257117, 1.007322214720886, 0.8670940245144577, 0.13823238071969615, 0.7532339864192089, 0.27390326778880325, 0.8969636871012424, 0.8971830544477187, 0.8770877449847615, 0.31098677105871564, 0.6219735421174313, 0.5775046834523713, 0.9960469099489655, 0.7329183312032623, 0.7331526244096743, 0.9404260973100934, 1.0074698923115006, 0.7327706092257001, 0.9960421707954276, 1.0080043153087663, 1.0335899008580942, 0.961725327706061, 0.732657984675791, 1.0081914478538305, 1.033479267393994, 0.897168367588281, 0.8349516151972858, 0.13915860253288095, 1.0080211105650678, 0.3850347771137613, 0.3850347771137613, 0.8971432980878404, 0.8970796266860511, 1.0084186218860902, 0.5775207775131398, 0.8972114758127627, 0.8587788830672602, 0.1472192370972446, 0.864538846470304, 0.09605987183003378, 0.9077996167561462, 0.08940450771083257, 0.7328438500197333, 0.9330825009613329, 0.06664875006866663, 0.9472974545182676, 0.06111596480763017, 0.8971536744463176, 0.8971610759211276, 1.0070466289552478, 0.8971639121077287, 0.49005715066881006, 0.49005715066881006, 0.3849252983970715, 0.3849252983970715, 0.8972350186014517, 1.0070229602763785, 1.0075602082685746, 1.0343598995993568, 0.5775696797914924, 0.8682332503814925, 0.12403332148307035, 0.8971425509459039, 0.8971162939802981, 0.8972379851611799, 0.8772260134903285], \"Term\": [\"'\", \"'\", \"'2018).\", \"'2019).\", \"(casey\", \"(hyv\\ufffdrinen',\", \"(rajnak\", \"(tapscott\", \".nancial\", \"1741-5659\", \"2.0',\", \"3.0\", \"4.0\", \"\\\\n(alketbi',\", \"\\\\n(andoni',\", \"\\\\n(mettler',\", \"\\\\n(morkunas\", \"\\\\n2016)',\", \"\\\\n2020)',\", \"\\\\n\\\\nchandan\", \"\\\\nal.',\", \"\\\\nal.',\", \"\\\\nand\", \"\\\\nand\", \"\\\\nbusiness\", \"\\\\net\", \"\\\\net\", \"\\\\nkeywords\", \"\\\\npublic\", \"a\", \"a\", \"affect\", \"all\", \"allowing\", \"also\", \"altered\", \"an\", \"an\", \"and\", \"and\", \"application\", \"application\", \"applications\", \"applications\", \"areas\", \"areas\", \"article\", \"articles\", \"banking\", \"be\", \"be\", \"been\", \"been\", \"bitcoin\", \"blockchain\", \"blockchain\", \"by\", \"by\", \"can\", \"can\", \"capabilities\", \"cash\", \"change\", \"classi.ed\", \"conducting\", \"contains\", \"created\", \"credit\", \"data\", \"database\", \"databases\", \"decentralized\", \"directly.\", \"do\", \"due\", \"education\", \"education\", \"education.\", \"educational\", \"educational\", \"education\\ufffd.\", \"ensures\", \"for\", \"for\", \"from\", \"future\", \"generations',\", \"globally\", \"governance\", \"government',\", \"grading\", \"has\", \"has\", \"health\", \"health\", \"highly\", \"identi.es\", \"immensely\", \"implemented',\", \"in\", \"in\", \"inclusion\", \"india\", \"institutions\", \"institutions\", \"interest\", \"international\", \"is\", \"is\", \"it\", \"it\", \"its\", \"its\", \"literature\", \"management\", \"management\", \"nascent\", \"network\", \"no.\", \"number\", \"of\", \"of\", \"on\", \"on\", \"one-to-one\", \"organizations\", \"paper\", \"payment\", \"payment\", \"platform\", \"present\", \"prospective\", \"provide\", \"publications\", \"purpose\", \"record-keeping\", \"research\", \"researchers\", \"results\", \"review\", \"reviews\", \"sector.\", \"some\", \"srivastava',\", \"studies\", \"studies\", \"study\", \"such\", \"such\", \"supply\", \"support\", \"systematic\", \"systems\", \"tamper-proofed\", \"technology\", \"technology\", \"that\", \"that\", \"the\", \"the\", \"they\", \"this\", \"this\", \"to\", \"to\", \"transparency\", \"trusted',\", \"under\", \"unique\", \"used\", \"used\", \"various\", \"various\", \"veri.cation\", \"we\", \"were\", \"where\", \"whole\", \"with\", \"with\", \"work.ow\", \"works\", \"world\\ufffds\", \"\\ufffd\"]}, \"R\": 30, \"lambda.step\": 0.01, \"plot.opts\": {\"xlab\": \"PC1\", \"ylab\": \"PC2\"}, \"topic.order\": [2, 3, 1]};\n",
       "\n",
       "function LDAvis_load_lib(url, callback){\n",
       "  var s = document.createElement('script');\n",
       "  s.src = url;\n",
       "  s.async = true;\n",
       "  s.onreadystatechange = s.onload = callback;\n",
       "  s.onerror = function(){console.warn(\"failed to load library \" + url);};\n",
       "  document.getElementsByTagName(\"head\")[0].appendChild(s);\n",
       "}\n",
       "\n",
       "if(typeof(LDAvis) !== \"undefined\"){\n",
       "   // already loaded: just create the visualization\n",
       "   !function(LDAvis){\n",
       "       new LDAvis(\"#\" + \"ldavis_el1416820956826878243671635700\", ldavis_el1416820956826878243671635700_data);\n",
       "   }(LDAvis);\n",
       "}else if(typeof define === \"function\" && define.amd){\n",
       "   // require.js is available: use it to load d3/LDAvis\n",
       "   require.config({paths: {d3: \"https://d3js.org/d3.v5\"}});\n",
       "   require([\"d3\"], function(d3){\n",
       "      window.d3 = d3;\n",
       "      LDAvis_load_lib(\"https://cdn.jsdelivr.net/gh/bmabey/pyLDAvis@3.4.0/pyLDAvis/js/ldavis.v3.0.0.js\", function(){\n",
       "        new LDAvis(\"#\" + \"ldavis_el1416820956826878243671635700\", ldavis_el1416820956826878243671635700_data);\n",
       "      });\n",
       "    });\n",
       "}else{\n",
       "    // require.js not available: dynamically load d3 & LDAvis\n",
       "    LDAvis_load_lib(\"https://d3js.org/d3.v5.js\", function(){\n",
       "         LDAvis_load_lib(\"https://cdn.jsdelivr.net/gh/bmabey/pyLDAvis@3.4.0/pyLDAvis/js/ldavis.v3.0.0.js\", function(){\n",
       "                 new LDAvis(\"#\" + \"ldavis_el1416820956826878243671635700\", ldavis_el1416820956826878243671635700_data);\n",
       "            })\n",
       "         });\n",
       "}\n",
       "</script>"
      ],
      "text/plain": [
       "<IPython.core.display.HTML object>"
      ]
     },
     "execution_count": 16,
     "metadata": {},
     "output_type": "execute_result"
    }
   ],
   "source": [
    "# 輸出主題模型分析結果\n",
    "import pyLDAvis.gensim\n",
    "pyLDAvis.enable_notebook()\n",
    "vis = pyLDAvis.gensim.prepare(lda_model, corpus, dictionary)\n",
    "pyLDAvis.display(vis)"
   ]
  }
 ],
 "metadata": {
  "kernelspec": {
   "display_name": "Python 3 (ipykernel)",
   "language": "python",
   "name": "python3"
  },
  "language_info": {
   "codemirror_mode": {
    "name": "ipython",
    "version": 3
   },
   "file_extension": ".py",
   "mimetype": "text/x-python",
   "name": "python",
   "nbconvert_exporter": "python",
   "pygments_lexer": "ipython3",
   "version": "3.9.13"
  },
  "vscode": {
   "interpreter": {
    "hash": "a552c2ea7a7b6736ba4a8b66efcb40eda8d77c5e9d980e5b81f29aecaaefb085"
   }
  }
 },
 "nbformat": 4,
 "nbformat_minor": 5
}
