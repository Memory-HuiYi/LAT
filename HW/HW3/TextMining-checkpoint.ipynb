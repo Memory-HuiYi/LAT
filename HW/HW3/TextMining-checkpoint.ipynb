{
 "cells": [
  {
   "attachments": {},
   "cell_type": "markdown",
   "id": "3d3dbfd3",
   "metadata": {},
   "source": [
    "HW3 找教育相關的文字資料進行視覺化"
   ]
  },
  {
   "cell_type": "code",
   "execution_count": 1,
   "id": "98db756c",
   "metadata": {},
   "outputs": [],
   "source": [
    "import openai\n",
    "import pandas as pd"
   ]
  },
  {
   "attachments": {},
   "cell_type": "markdown",
   "id": "7a522301",
   "metadata": {},
   "source": [
    "PDF轉txt"
   ]
  },
  {
   "cell_type": "code",
   "execution_count": 8,
   "id": "3b2eb51e",
   "metadata": {},
   "outputs": [
    {
     "data": {
      "text/plain": [
       "<aspose.words.saving.SaveOutputParameters object at 0x000001A2E65613B0>"
      ]
     },
     "execution_count": 8,
     "metadata": {},
     "output_type": "execute_result"
    }
   ],
   "source": [
    "import aspose.words as aw\n",
    "\n",
    "# 加載PDF文件\n",
    "doc = aw.Document(\"paper2.pdf\")\n",
    "\n",
    "# 將 PDF 轉換為 TXT\n",
    "doc.save(\"03.txt\")"
   ]
  },
  {
   "cell_type": "code",
   "execution_count": 2,
   "id": "f92744a5",
   "metadata": {},
   "outputs": [],
   "source": [
    "with open('01.txt', 'r', encoding=\"utf-8-sig\") as fh:\n",
    "    tmp = fh.read()\n",
    "    itemlist = tmp.split(',')"
   ]
  },
  {
   "cell_type": "code",
   "execution_count": 3,
   "id": "671f93dd",
   "metadata": {},
   "outputs": [],
   "source": [
    "itemlist = str(itemlist)"
   ]
  },
  {
   "cell_type": "code",
   "execution_count": 4,
   "id": "81cd9f57",
   "metadata": {},
   "outputs": [],
   "source": [
    "keyfile = open(\"key.txt\", \"r\")\n",
    "key = keyfile.readline()\n",
    "openai.api_key = key"
   ]
  },
  {
   "cell_type": "markdown",
   "id": "e07c297b",
   "metadata": {},
   "source": [
    "分段讓ChatGPT幫忙摘要"
   ]
  },
  {
   "cell_type": "code",
   "execution_count": 5,
   "id": "0c6fcb13",
   "metadata": {},
   "outputs": [],
   "source": [
    "data = [itemlist[0:3200], itemlist[3201:6400], \n",
    "        itemlist[6401:9600], itemlist[9601:12800], itemlist[12801:16000]]"
   ]
  },
  {
   "cell_type": "code",
   "execution_count": 6,
   "id": "56642f40",
   "metadata": {},
   "outputs": [
    {
     "data": {
      "text/plain": [
       "\"['\\\\nBlockchain in education management: present and future applications \\\\nPreeti Bhaskar \\\\nUniversity of Technology and Applied Sciences', ' Ibra', ' Oman and ICFAI Business School', ' ICFAI University', ' Dehradun', ' India \\\\n\\\\nChandan Kumar Tiwari \\\\nSymbiosis Centre for Management Studies', ' Noida', ' India and Symbiosis International (Deemed University)', ' Pune', ' India', ' and \\\\n\\\\nAmit Joshi \\\\nICFAI Business School', ' ICFAI University', ' Dehradun', ' India \\\\nAbstract \\\\nPurpose � This paper aims to provide a systematic literature review on blockchain technology in education to offer a detailed understanding of the present scenario in terms of bene.ts', ' barriers', ' present blockchain technology application and future areas where blockchain technology can be implemented in the other .elds of education. \\\\nDesign/methodology/approach � A bibliometric analysis is conducted on for data in the publications', ' journals', ' authors and citations were collected', ' and examined by applying bibliometric measures. The data was collected from SCOPUS database on the topic �Blockchain Technology in Education�. The following research questions guided this systematic literature review (SLR: How blockchain technology has been de.ned in educational settings? How were the technology examined (i.e. the methodology)? What were the results of using this technology in an education system? \\\\nFindings � The study identi.es the bene.ts', ' barriers and present application of blockchain technology in education. The analysis shows that blockchain technology in education is still a young discipline', ' but has a lot of potential to bene.ts the educational sector at large. \\\\nPractical implications � This research provides a groundwork for education institutions', ' the policymakers and researchers to explore other areas where blockchain technology can be implemented', ' though this research has also suggested some prospective uses of blockchain technology in different functions of an education system', ' more application can be brought into the education system to exploit the potential of blockchain technology. \\\\nOriginality/value � The paper discusses the application of blockchain technology in education with the help of bibliometric analysis. This is one of the .rst known studies to review the blockchain technology by identifying its bene.ts', ' barriers', ' present blockchain technology application. Based on the analysis', ' future application areas are also identi.ed. \\\\nKeywords Systematic review', ' Education', ' Blockchain technology', ' Blockchain application \\\\nPaper type Literature review \\\\n1. Introduction \\\\nBlockchain was .rst used to a peer-to-peer ledger for record-keeping of the transactions of Bitcoin cryptocurrency. A blockchain transaction in the public ledger contains a veri.able record and once the information entered', ' it cannot be altered or erased in the future. The \\\\nBlockchain in education management \\\\nReceived 4 July 2020 Revised 19 September 2020 Accepted 10 October 2020 \\\\n\\\\nInteractive Technology and Smart Education Vol. 18 No. 1', ' 2021 pp. 1-17 � Emerald Publishing Limited 1741-5659 DOI 10.1108/ITSE-07-2020-0102 \\\\n\\\\nBlockchain tech\""
      ]
     },
     "execution_count": 6,
     "metadata": {},
     "output_type": "execute_result"
    }
   ],
   "source": [
    "data[0]"
   ]
  },
  {
   "cell_type": "code",
   "execution_count": 7,
   "id": "bb7c5fca",
   "metadata": {},
   "outputs": [],
   "source": [
    "def chatgptfn(sub_list):\n",
    "    result = ''\n",
    "    response = openai.ChatCompletion.create(\n",
    "        model=\"gpt-3.5-turbo\",\n",
    "        messages=[\n",
    "            {\"role\": \"system\", \"content\": \"You are an assistant\"},\n",
    "            {\"role\": \"user\", \"content\": f\"{sub_list} :give me a summary\"}\n",
    "        ]\n",
    "    )\n",
    "    for choice in response.choices:\n",
    "        result += choice.message.content\n",
    "    return result"
   ]
  },
  {
   "cell_type": "code",
   "execution_count": 9,
   "id": "e3c0e641",
   "metadata": {},
   "outputs": [],
   "source": [
    "keyfile = open(\"key.txt\", \"r\")\n",
    "key = keyfile.readline()\n",
    "openai.api_key = key\n",
    "for i in range(0,5):\n",
    "    data[i] = chatgptfn(data[i])"
   ]
  },
  {
   "cell_type": "markdown",
   "id": "011a4f00",
   "metadata": {},
   "source": [
    "把摘要完的內容整併在一起"
   ]
  },
  {
   "cell_type": "code",
   "execution_count": 10,
   "id": "c92c6ca8",
   "metadata": {},
   "outputs": [
    {
     "data": {
      "text/plain": [
       "\"This paper provides a literature review on the use of blockchain technology in education. The study examines the benefits, barriers, and current applications of blockchain technology in education and suggests potential future areas for implementation. The paper is based on a bibliometric analysis and identifies key research questions related to the definition of blockchain technology in educational settings, methodology, and results of using this technology in the education system. The study shows that blockchain technology is still a young discipline but has the potential to benefit the educational sector in a significant way. The research provides a groundwork for education institutions, policymakers, and researchers to explore other areas where blockchain technology can be implemented.Blockchain technology allows for direct verification and transactions without the need for intermediary parties. It has progressed through four generations, each with unique uses and benefits such as security, decentralization, transparency, and immutability. Blockchain technology has been applied in various sectors, including finance, government, education, health, tourism, and energy. Researchers are exploring the potential uses of blockchain technology beyond governance and society, with estimates suggesting that it could control 10% of the world's GDP by 2025. In education, blockchain technology has been used to create a globally trusted, decentralized system for credit transfer and grading. The technology's strong cybersecurity capabilities make it a promising solution for managing educational data.This paper is a systematic literature review of blockchain technology in education, examining its definition in educational settings, the methodologies used to study it, and the results of using it in education. The paper aims to explore the potential benefits of using blockchain in the education sector. The authors follow the Preferred Reporting Items for Systematic Reviews and Meta-Analyses (PRISMA) diagram to depict the stages in their research study, and they provide a detailed understanding of the current state of blockchain technology in education and future potential areas of implementation.The systematic literature review investigated the use of blockchain technology in education. The research stages involved searching an academic database, visual examination, and content analysis. The inclusion criteria for articles were that they were written in English, discussed blockchain technology in education, and examined its use in educational settings. Out of 204 documents retrieved, 36 articles were selected for further study. The review found that blockchain technology is gaining attention among researchers, but its application is still immature, and public knowledge lacks a clear strategic vision of its future.The article discusses the potential applications of blockchain technology in education, including student data management, administration activities, and teaching and learning. There are issues with scalability, smart contract security, and user adoption. The article presents a review of existing literature on the topic, which shows that blockchain technology in education is a multidisciplinary area of research. There is limited quantitative research on the topic, and most of the published work is in journals covering science and technology, medicine, marketing, and law. There is a need to explore the area further for publication covering school education, online education and subjects of social sciences, and business and management education.\""
      ]
     },
     "execution_count": 10,
     "metadata": {},
     "output_type": "execute_result"
    }
   ],
   "source": [
    "data1 = ''\n",
    "for i in range(0,5):\n",
    "    data1 = data1 + data[i]\n",
    "data1"
   ]
  },
  {
   "attachments": {},
   "cell_type": "markdown",
   "id": "94602775",
   "metadata": {},
   "source": [
    "data2(ESP32-CAM)"
   ]
  },
  {
   "cell_type": "code",
   "execution_count": 11,
   "id": "18fb0e03",
   "metadata": {},
   "outputs": [],
   "source": [
    "with open('02.txt', 'r', encoding=\"utf-8-sig\") as fh:\n",
    "    tmp = fh.read()\n",
    "    itemlist = tmp.split(',')"
   ]
  },
  {
   "cell_type": "code",
   "execution_count": 12,
   "id": "a9cd0069",
   "metadata": {},
   "outputs": [],
   "source": [
    "itemlist = str(itemlist)"
   ]
  },
  {
   "cell_type": "code",
   "execution_count": 20,
   "id": "222dc2e8",
   "metadata": {},
   "outputs": [],
   "source": [
    "data = [itemlist[0:3200], itemlist[3201:6400], \n",
    "        itemlist[6401:9600], itemlist[9601:12800], itemlist[12801:16000], itemlist[16001:19200]]"
   ]
  },
  {
   "cell_type": "code",
   "execution_count": 21,
   "id": "fae86f1f",
   "metadata": {},
   "outputs": [
    {
     "data": {
      "text/plain": [
       "\" terkirim x = tidak terkirim Data yang sudah tersimpan kemudian dapat dilihat oleh pengguna pada halaman tampil.php. Gambar 4 menunjukkan data sensor yang ditampilkan pada halaman web dimana pada halaman tersebut memuat data terkait data waktu', ' suhu', ' kelembaban', '', ' kondisi pendeteksian dari sensor PIR1 dan sensor PIR2 serta kondisi cahaya. Gambar 4. Halaman tampil.php 4.2.Pengujian penerimaan perintah dari server Pada bagian ini dilakukan pengujian terkait penerimaan perintah dan aksi yang harus dilakukan oleh alat sesuai dengan program yang dibuat. Perintah-perintah dilakukan secara manual oleh pengguna melalui antarmuka web yang sudah disediakan seperti yang ditunjukkan pada gambar 5. Pengguna dapat menekan tombol-tombol pada halaman tersebut seperti tombol capture untuk mengambil foto secara manual', ' tombol aktivasi sensor PIR1', ' sensor PIR2', ' tombol fan untuk aktivasi kipas', ' tombol aktivasi lampu1', ' lampu2', ' lampu3 dan lampu4. Jurnal Teknologi dan Informasi (JATI) Volume 10 Nomor 1 Edisi Maret 2020 P-ISSN 2088-2270', ' E-ISSN 2655-6839 DOI 10.34010/jati.v10i1 https://ojs.unikom.ac.id/index.php/jati 48 Gambar 5. Halaman kontrol.php Pengujian kontrol ini dilakukan 10 kali untuk setiap fungsi tombol yang ada di halaman kontrol.php. Tabel 2. Menunjukkan hasil pengujian penerimaan perintah yang dilakukan manual oleh pengguna. Tabel 2. Penerimaan perintah No Nama Alat Pengujian terima perintah ke\\\\x021 2 3 4 5 6 7 8 9 10 % P A P A P A P A P A P A P A P A P A P A 1 Camera ESP32 CAM - √ + √ - √ - √ + √ + √ - √ - √ - √ + √ 100% 2 Sensor PIR1 + √ + √ - √ + √ - √ + √ - √ + √ - √ + √ 100% 3 Sensor PIR2 + √ + √ - √ + √ - √ + √ - √ + √ - √ + √ 100% 4 Kipas - √ - √ - √ - √ + √ - √ + √ - √ - √ + √ 100% 5 Lampu1 - √ + √ - √ - √ + √ - √ - √ - √ - √ + √ 100% 6 Lampu2 - √ + √ - √ - √ + √ + √ - √ - √ - √ + √ 100% 7 Lampu3 - √ + √ - √ - √ - √ + √ - √ - √ - √ + √ 100% 8 Lampu4 - √ + √ - √ - √ - √ + √ - √ - √ - √ + √ 100% Ket: P = Pengguna A = Arduino + = perintah aktif - = perintah tidak aktif √ = diterima dan dilakukan aksi yang sesuai x = tidak diterima Dari hasil pengujian penerimaan perintah yang dilakukan ESP32 CAM berhasil mengambil gambar dan mengirimnya ke aplikasi Line pengguna ketika mendapatkan perintah. Arduino dapat mengaktifkan dan menonaktifkan sensor PIR1 dan sensor PIR2 sesuai perintah dari pengguna. Kipas dapat diaktifkan dan dinonaktifkan ketika pengguna mengirim perintah melalui web dan semua lampu dari mulai Lampu1 sampai dengan Lampu4 dapat dinyalakan dan dipadamkan sesuai dengan perintah yang diterima. Maka', ' Jurnal Teknologi dan Informasi (JATI) Volume 10 Nomor 1 Edisi Maret 2020 P-ISSN 2088-2270', ' E-ISSN 2655-6839 DOI 10.34010/jati.v10i1 https://ojs.unikom.ac.id/index.php/jati 49 dapat disimpulkan bahwa penerimaan perintah serta pengambilan aksi yang dilakukan oleh Arduino sudah berhasl dilakukan dengan persentase keberhasilan 100%. 4.3.Pengujian pengambilan gambar secara otomatis Pengujian ini dilakukan untuk menguji fungsi pengambilan gambar atau foto secara otomatis ketika ada penyusup yang terdeteksi oleh sensor PIR1 ataupun sensor PIR2. Foto yang berhasil diambil harus langsung dikirim ke aplikasi Line pe\""
      ]
     },
     "execution_count": 21,
     "metadata": {},
     "output_type": "execute_result"
    }
   ],
   "source": [
    "data[5]"
   ]
  },
  {
   "cell_type": "code",
   "execution_count": 22,
   "id": "9b84c863",
   "metadata": {},
   "outputs": [],
   "source": [
    "def chatgptfn(sub_list):\n",
    "    result = ''\n",
    "    response = openai.ChatCompletion.create(\n",
    "        model=\"gpt-3.5-turbo\",\n",
    "        messages=[\n",
    "            {\"role\": \"system\", \"content\": \"You are an assistant\"},\n",
    "            {\"role\": \"user\", \"content\": f\"{sub_list} :give me a summary\"}\n",
    "        ]\n",
    "    )\n",
    "    for choice in response.choices:\n",
    "        result += choice.message.content\n",
    "    return result"
   ]
  },
  {
   "cell_type": "code",
   "execution_count": 23,
   "id": "b97a3ad8",
   "metadata": {},
   "outputs": [],
   "source": [
    "keyfile = open(\"key.txt\", \"r\")\n",
    "key = keyfile.readline()\n",
    "openai.api_key = key\n",
    "for i in range(0,6):\n",
    "    data[i] = chatgptfn(data[i])"
   ]
  },
  {
   "cell_type": "code",
   "execution_count": 25,
   "id": "85488717",
   "metadata": {},
   "outputs": [
    {
     "data": {
      "text/plain": [
       "'The study focuses on the implementation of a smart home system through the use of Arduino and ESP32 CAM with IoT technology. It aims to control home appliances and monitor home security. The method used is an experimental method, where Arduino is the main brain of the system that reads data from temperature sensors, PIR sensors, and LDR to control the lamp, fan, and PIR sensors. The tool can also send photos automatically when it detects movement and can be controlled manually via a web interface. Sensor data is sent to the server via the ESP32 CAM module and is also viewable through a web interface. The study concludes that the tool has been effective and can be used for smart home systems.'"
      ]
     },
     "execution_count": 25,
     "metadata": {},
     "output_type": "execute_result"
    }
   ],
   "source": [
    "data[0]"
   ]
  },
  {
   "cell_type": "markdown",
   "id": "ed8a7831",
   "metadata": {},
   "source": [
    "把摘要完的內容整併在一起"
   ]
  },
  {
   "cell_type": "code",
   "execution_count": 26,
   "id": "056ac99f",
   "metadata": {},
   "outputs": [
    {
     "data": {
      "text/plain": [
       "\"The study focuses on the implementation of a smart home system through the use of Arduino and ESP32 CAM with IoT technology. It aims to control home appliances and monitor home security. The method used is an experimental method, where Arduino is the main brain of the system that reads data from temperature sensors, PIR sensors, and LDR to control the lamp, fan, and PIR sensors. The tool can also send photos automatically when it detects movement and can be controlled manually via a web interface. Sensor data is sent to the server via the ESP32 CAM module and is also viewable through a web interface. The study concludes that the tool has been effective and can be used for smart home systems.The article discusses the development of Internet of Things (IoT) technology and its use in creating smart home devices. The study focuses on using Arduino and ESP32 CAM for IoT-based home control and security monitoring. The system also has a feature for taking photos of intruders and sending them to the user's LINE application. The article cites previous studies that have explored similar topics but have not included the photo-taking feature.The research focuses on implementing a microcontroller for a smart home system with features such as photo capture when an intruder is detected. The system uses Arduino UNO for programming and ESP32 CAM for capturing and sending data via WiFi. The sensors used are DHT11 for measuring temperature and humidity, LDR for measuring the brightness of received light, and PIR HC-SR501 for detecting human movement. The switching of four lamps is done using relay, and the data is stored using MySQL. The research uses experimental methods based on theoretical studies from various literature.The steps to produce the expected research in Pat's study are:\\n\\n1. Literature review: Collect and study theoretical data related to the required materials for the necessary design.\\n\\n2. Design: Create designs for both software and hardware, including block diagrams and circuit diagrams.\\n\\n3. Simulation: Conduct simulations on the designed software and hardware to obtain simulated data on each part's function.\\n\\n4. Implementation: Combined implementation of software and hardware to achieve synchronization between the two.\\n\\n5. Verification: Verify the product and ensure it can measure temperature, detect human presence, determine darkness and light, and receive commands to carry out necessary actions.\\n\\n6. Testing: Final testing on the system to measure the level of success based on the intended goals.\\n\\nPat divided the design of the system into two key parts, hardware and software. The hardware comprises Arduino UNO, ESP32 CAM, DHT11, LDR, PIR1 sensor, PIR2 sensor, Relay1-5, Lampu1-4, and Kipas. The software design includes the flowchart and web interface. A flowchart of the entire system was created to understand the complete mechanism clearly.The article discusses the design and implementation of a home automation system that integrates various sensors, an Arduino board, and an ESP32 CAM module. The system can read data from sensors, such as DHT11, LDR, and PIR, and send it to a server for storage and visualization. The system can also respond to commands from the server to control devices, such as lamps and fans, and take pictures upon detecting motion. The article reports successful testing of data transmission and storage with a 100% success rate.Summary:\\n\\nThis document describes the testing of a security system that uses various sensors, an Arduino board, and an ESP32-CAM module for capturing and sending images. The system was tested for the reception and execution of user commands, automatic capture of images upon detecting an intruder, and other functions such as controlling lights, fans, and sensors. The results showed that the system was able to receive and execute user commands with a 100% success rate. The automatic capture of images upon detecting an intruder was also successful, and the images were sent to the user's Line application. The testing showed that the developed security system was effective in detecting and responding to intrusions.\""
      ]
     },
     "execution_count": 26,
     "metadata": {},
     "output_type": "execute_result"
    }
   ],
   "source": [
    "data2 = ''\n",
    "for i in range(0,6):\n",
    "    data2 = data2 + data[i]\n",
    "data2"
   ]
  },
  {
   "attachments": {},
   "cell_type": "markdown",
   "id": "5e4d46c1",
   "metadata": {},
   "source": [
    "data3(Teachable Machine)"
   ]
  },
  {
   "cell_type": "code",
   "execution_count": 27,
   "id": "b9c52efb",
   "metadata": {},
   "outputs": [],
   "source": [
    "with open('03.txt', 'r', encoding=\"utf-8-sig\") as fh:\n",
    "    tmp = fh.read()\n",
    "    itemlist = tmp.split(',')"
   ]
  },
  {
   "cell_type": "code",
   "execution_count": 28,
   "id": "ee2ca203",
   "metadata": {},
   "outputs": [],
   "source": [
    "itemlist = str(itemlist)"
   ]
  },
  {
   "cell_type": "code",
   "execution_count": 29,
   "id": "0ae9c2a4",
   "metadata": {},
   "outputs": [],
   "source": [
    "data = [itemlist[0:3200], itemlist[3201:6400], \n",
    "        itemlist[6401:9600], itemlist[9601:12800], itemlist[12801:16000], itemlist[16001:19200]]"
   ]
  },
  {
   "cell_type": "code",
   "execution_count": 30,
   "id": "41cdab0a",
   "metadata": {},
   "outputs": [
    {
     "data": {
      "text/plain": [
       "\"nguage we released the tool in. \\\\nUsers  have  also  been  using  the  tool  to  prototyp e ideas  that  require  machine  learning  classification: \\\\n\\\\x0e\\\\x0e• Babusi Nyoni using Teachable  Machine to create blackgirlhair.js [25] \\\\n• Base Design used it to prototype  a cookie-drawing recognizer. [31] \\\\n• Atharva Patil used it to build a posture detector that  blurs the web page if you slouch.  [27] \\\\nThese usages suggest to us that  users find Teachable Machine an easier tool to prototype  with than  existing workflows', ' and also that  it enables people with less expertise to prototype  using ML classification. \\\\nEnabling  personal  empowerment  and  agency:  Users have communicated  that  they feel more empowered to work with ML as a result of Teachable  Machine. \\\\n• They have commented  on Twitter  and YouTube', ' such as mb09 on Dan Schiffman’s YouTube video about  Teachable  Machine said: “Thanks  for the new video! Always appreciate  the interesting and inspiring content  from here.  It certainly helps to eliminate the fear barrier to try new things!” [6] \\\\n• Christine Meinders', ' Professor of AI', ' Culture and Creativity at Cal Arts and California College of Arts', ' founder of Feminist.AI [23', ' 24]: “I use teachable machine in my classes and community workshops via Feminist.AI. It’s a great  way for students  to actually visualize what it means to have diverse data collection', ' and quickly understand  issues with training.  The ability to record while moving allows for unique data  collection', ' adding or removing data', ' and retraining models.  It’s great  because you can instantly understand  changes.  Additionally', ' it has the ability to name your class', ' giving it a sense of personalization.  This allows anyone from any \\\\n\\\\nCreated with an evaluation copy of Aspose.Words. To discover the full versions of our APIs please visit: https://products.aspose.com/words/\\\\n\\\\nbackground to come in and play with Machine Learning for themselves.  This is huge.” \\\\nDiscussion \\\\nTeachable  Machine is empowering people to create  their own machine learning classification models', ' including: \\\\n• Educators  using it in the classroom and creating their own curriculum and content. \\\\n• Enabling interactive ML to be culturally sensitive (e.g.  starting  a conversation about  subjective classification', ' like banana  ripeness', ' which can differ between people) \\\\n• A clearer mental model about  what ML is doing', ' like understanding  the relationship between inputs and outputs  of the model \\\\n• Working immediately out of the box', ' while allowing users to dive in deeper to customize and explore the models themselves', ' export and use those models', ' and work with multiple inputs (cameras', ' microphones', ' images) and outputs  (arduinos', '  coral dev boards) \\\\nThis work is important  as ML/AI impact many aspects of our lives. By providing fun and engaging examples that invite people to play with these techniques', '  we are allowing people to understand  how ML works without needing to learn coding.  Creating models themselves also allows people to question the inputs and outputs  of the models around them in their daily life - fo\""
      ]
     },
     "execution_count": 30,
     "metadata": {},
     "output_type": "execute_result"
    }
   ],
   "source": [
    "data[5]"
   ]
  },
  {
   "cell_type": "code",
   "execution_count": 31,
   "id": "b61d788c",
   "metadata": {},
   "outputs": [],
   "source": [
    "def chatgptfn(sub_list):\n",
    "    result = ''\n",
    "    response = openai.ChatCompletion.create(\n",
    "        model=\"gpt-3.5-turbo\",\n",
    "        messages=[\n",
    "            {\"role\": \"system\", \"content\": \"You are an assistant\"},\n",
    "            {\"role\": \"user\", \"content\": f\"{sub_list} :give me a summary\"}\n",
    "        ]\n",
    "    )\n",
    "    for choice in response.choices:\n",
    "        result += choice.message.content\n",
    "    return result"
   ]
  },
  {
   "cell_type": "code",
   "execution_count": 32,
   "id": "5ccc6ea5",
   "metadata": {},
   "outputs": [],
   "source": [
    "keyfile = open(\"key.txt\", \"r\")\n",
    "key = keyfile.readline()\n",
    "openai.api_key = key\n",
    "for i in range(0,6):\n",
    "    data[i] = chatgptfn(data[i])"
   ]
  },
  {
   "cell_type": "code",
   "execution_count": 34,
   "id": "4aa6d195",
   "metadata": {},
   "outputs": [
    {
     "data": {
      "text/plain": [
       "'Teachable Machine is a tool that allows people to create their own machine learning classification models. It is easy to use and has a variety of applications, including in the classroom and for prototyping ideas. Users have found it to be empowering and easy to use, and it allows for personalization and customization of models. The tool is important as machine learning and AI continue to impact many aspects of our lives, and it allows people to understand and question the inputs and outputs of models around them.'"
      ]
     },
     "execution_count": 34,
     "metadata": {},
     "output_type": "execute_result"
    }
   ],
   "source": [
    "data[5]"
   ]
  },
  {
   "cell_type": "markdown",
   "id": "9b863076",
   "metadata": {},
   "source": [
    "把摘要完的內容整併在一起"
   ]
  },
  {
   "cell_type": "code",
   "execution_count": 35,
   "id": "f6a21e21",
   "metadata": {},
   "outputs": [
    {
     "data": {
      "text/plain": [
       "\"This is the abstract of a research paper describing Teachable Machine, a web-based tool developed by Google for creating custom machine learning classification models without technical expertise. The paper outlines the tool's key contributions, such as its flexible and approachable interface, technical and design decisions, and structured learning content supporting the users accessing ML concepts. The paper also mentions Teachable Machine's broad uptake and use in creating resources on AI ethics and creative experiments.Teachable Machine is a web-based interface that allows people without technical knowledge to create their own machine learning (ML) classification models using their webcam, images, or sound. It uses transfer learning, an ML technique, to find patterns and trends within input samples and create a simple classification model within seconds. Teachable Machine is designed to be used by educators, prototypers, designers, researchers, and users with disabilities. The primary contributions of the project include a generalized, flexible-input interface for making ML models, product decisions that enable learning and experimentation, and content surrounding the interface that allows people to learn ML concepts. The project is related to human-centered machine learning and interactive machine learning, which enable people without technical knowledge to develop their own ML models.The article discusses an approachable tool called Teachable Machine that enables novices to create their own machine learning classification models for images, sounds, and poses. The tool includes data collection, classification, training, and evaluation in a single interface, allowing users to train on-device and export their model for future use. The article also highlights the technical decisions that enable learning and experimentation within the tool. The tool builds upon and extends existing IML tools, and the authors reflect on its widespread adoption and implications for future work.Teachable Machine is a machine learning tool that allows users to train their own models using their own data, without their data leaving their computer. It also provides options for users to customize their training parameters and evaluate their models using validation datasets. The tool has been used by educators to introduce concepts of AI and has been used in various applications. The tool is user-friendly and does not require prior experience in machine learning or coding.Teachable Machine is a free web-based tool developed by Google that helps learners to easily train machine learning models to recognize objects or actions using their camera or microphone without having any prior programming knowledge. It has been used in various educational settings to introduce students to ML concepts, such as classification and bias, and to allow them to create their own ML projects. The tool has also been used for creative projects involving facial expressions and movements, as well as for accessibility purposes, such as triggering audio playback with facial expressions for users with ALS. In addition, users have created tutorials in various languages, indicating the ease of use of Teachable Machine.Teachable Machine is a tool that allows people to create their own machine learning classification models. It is easy to use and has a variety of applications, including in the classroom and for prototyping ideas. Users have found it to be empowering and easy to use, and it allows for personalization and customization of models. The tool is important as machine learning and AI continue to impact many aspects of our lives, and it allows people to understand and question the inputs and outputs of models around them.\""
      ]
     },
     "execution_count": 35,
     "metadata": {},
     "output_type": "execute_result"
    }
   ],
   "source": [
    "data3 = ''\n",
    "for i in range(0,6):\n",
    "    data3 = data3 + data[i]\n",
    "data3"
   ]
  },
  {
   "attachments": {},
   "cell_type": "markdown",
   "id": "379c663b",
   "metadata": {},
   "source": [
    "來源要多於Topic數量"
   ]
  },
  {
   "cell_type": "code",
   "execution_count": 43,
   "id": "b60c1d70",
   "metadata": {},
   "outputs": [],
   "source": [
    "papers = [data1, data2, data3]"
   ]
  },
  {
   "cell_type": "code",
   "execution_count": 37,
   "id": "775265fa",
   "metadata": {},
   "outputs": [],
   "source": [
    "import gensim\n",
    "from gensim import corpora\n",
    "from pprint import pprint"
   ]
  },
  {
   "cell_type": "code",
   "execution_count": 44,
   "id": "d905021c",
   "metadata": {},
   "outputs": [],
   "source": [
    "# 創建詞袋\n",
    "texts = [[word for word in document.lower().split()] for document in papers]\n",
    "dictionary = corpora.Dictionary(texts)\n",
    "corpus = [dictionary.doc2bow(text) for text in texts]"
   ]
  },
  {
   "cell_type": "code",
   "execution_count": 45,
   "id": "911dea5e",
   "metadata": {},
   "outputs": [],
   "source": [
    "# 訓練 LDA 模型\n",
    "lda_model = gensim.models.ldamodel.LdaModel(corpus=corpus, id2word=dictionary, \n",
    "                                            num_topics=3, random_state=100, update_every=1, \n",
    "                                            chunksize=100, passes=10, alpha='auto', per_word_topics=True)"
   ]
  },
  {
   "cell_type": "code",
   "execution_count": 46,
   "id": "9b194905",
   "metadata": {},
   "outputs": [
    {
     "name": "stderr",
     "output_type": "stream",
     "text": [
      "C:\\Users\\Pang\\AppData\\Roaming\\Python\\Python39\\site-packages\\pyLDAvis\\_prepare.py:243: FutureWarning: In a future version of pandas all arguments of DataFrame.drop except for the argument 'labels' will be keyword-only.\n",
      "  default_term_info = default_term_info.sort_values(\n"
     ]
    },
    {
     "data": {
      "text/html": [
       "\n",
       "<link rel=\"stylesheet\" type=\"text/css\" href=\"https://cdn.jsdelivr.net/gh/bmabey/pyLDAvis@3.4.0/pyLDAvis/js/ldavis.v1.0.0.css\">\n",
       "\n",
       "\n",
       "<div id=\"ldavis_el569617975222001609220762114\" style=\"background-color:white;\"></div>\n",
       "<script type=\"text/javascript\">\n",
       "\n",
       "var ldavis_el569617975222001609220762114_data = {\"mdsDat\": {\"x\": [0.09071484328165222, -0.1002017235392342, 0.009486880257582035], \"y\": [-0.0565088710923626, -0.04184664890187628, 0.09835551999423886], \"topics\": [1, 2, 3], \"cluster\": [1, 1, 1], \"Freq\": [38.08086362748123, 32.493440632267664, 29.4256957402511]}, \"tinfo\": {\"Term\": [\"blockchain\", \"technology\", \"machine\", \"their\", \"learning\", \"in\", \"system\", \"tool\", \"users\", \"education\", \"own\", \"ml\", \"models\", \"home\", \"education,\", \"potential\", \"classification\", \"arduino\", \"review\", \"technical\", \"people\", \"allows\", \"teachable\", \"esp32\", \"the\", \"educational\", \"education.\", \"of\", \"without\", \"detecting\", \"home\", \"arduino\", \"esp32\", \"system\", \"detecting\", \"sensors,\", \"was\", \"cam\", \"software\", \"hardware\", \"testing\", \"from\", \"images\", \"pir\", \"security\", \"capture\", \"sending\", \"success\", \"commands\", \"web\", \"focuses\", \"server\", \"implementation\", \"via\", \"interface.\", \"can\", \"temperature\", \"application.\", \"ldr\", \"sensor,\", \"data\", \"an\", \"smart\", \"control\", \"the\", \"and\", \"on\", \"of\", \"for\", \"to\", \"a\", \"study\", \"also\", \"that\", \"is\", \"article\", \"such\", \"as\", \"it\", \"with\", \"machine\", \"learning\", \"users\", \"own\", \"ml\", \"models\", \"classification\", \"their\", \"technical\", \"people\", \"teachable\", \"or\", \"enable\", \"within\", \"ai\", \"web-based\", \"train\", \"interface\", \"tool\", \"allows\", \"decisions\", \"introduce\", \"models.\", \"images,\", \"creative\", \"easy\", \"prior\", \"concepts.\", \"project\", \"learning,\", \"without\", \"by\", \"create\", \"to\", \"and\", \"as\", \"it\", \"is\", \"that\", \"for\", \"the\", \"a\", \"used\", \"in\", \"has\", \"of\", \"been\", \"blockchain\", \"education\", \"technology\", \"education,\", \"potential\", \"review\", \"education.\", \"there\", \"systematic\", \"explore\", \"areas\", \"stages\", \"further\", \"articles\", \"need\", \"settings,\", \"topic,\", \"still\", \"researchers\", \"current\", \"shows\", \"security,\", \"definition\", \"applications\", \"benefits\", \"area\", \"covering\", \"they\", \"educational\", \"literature\", \"in\", \"of\", \"the\", \"a\", \"and\", \"were\", \"research\", \"paper\", \"is\", \"its\", \"for\", \"to\", \"has\", \"that\", \"on\", \"it\", \"use\", \"using\", \"with\", \"study\"], \"Freq\": [11.0, 13.0, 12.0, 11.0, 9.0, 22.0, 12.0, 10.0, 6.0, 5.0, 5.0, 5.0, 5.0, 6.0, 4.0, 4.0, 5.0, 5.0, 4.0, 4.0, 4.0, 5.0, 4.0, 5.0, 80.0, 4.0, 3.0, 34.0, 5.0, 4.0, 6.223277149044253, 5.4711280355757665, 4.72801503915575, 11.458110632460954, 3.982939721340175, 3.9829525091599756, 3.9826757442028673, 3.982073803256549, 3.237051463551576, 3.236893747107371, 3.2358707215233404, 3.2353418538330248, 2.491402825148284, 2.4909878299485713, 2.489675860531432, 2.489649219240181, 2.4894529871006252, 2.4894278681688746, 2.489209866288468, 2.488996583722512, 2.488739913910804, 2.488564842568299, 2.4883093906441913, 2.488295537172741, 2.488133253650036, 4.728274753686458, 1.744332759679799, 1.743902388649136, 1.7435671650872262, 1.7435656427277262, 6.232791286975737, 6.225809137364728, 3.2386456784200233, 3.2373172675202837, 41.35084025302824, 32.39928114062862, 6.229272200755432, 13.700939553722806, 10.724140927198212, 12.97216779273702, 9.218104165712187, 3.9854756677953507, 3.986414354663079, 5.484136293031755, 5.482930584307719, 3.239366363407345, 3.2390564110131357, 3.248746533702825, 3.2413831852730053, 3.2393191702628434, 11.65758455600257, 8.797801894413032, 5.952035345405039, 5.237875049948971, 5.236110500613404, 5.234641082026542, 4.526235836170221, 10.220391337159295, 3.810260850327089, 3.808210782776005, 3.8020678544721944, 3.0942409193963463, 2.3837733954738103, 2.382638596961184, 2.3817916548478233, 2.3812245153897043, 2.3808000051402467, 2.3793435764630986, 8.115533386094313, 4.53114965921688, 1.669539317330566, 1.6695091807400293, 1.6689764645426528, 1.668616124447183, 1.668256563746296, 1.6682236992747193, 1.6672181503637487, 1.6671645020366292, 1.667073182971339, 1.6669861505762542, 3.8149821629117855, 3.0905408735133744, 3.8208372348163313, 16.663370967474783, 23.902421107132515, 4.522822607493737, 5.234572495303251, 7.381749493831307, 5.97053505522351, 8.12134611089319, 15.926181120884731, 7.395978121335773, 3.817239809220101, 5.971305097071364, 3.805133992761117, 6.668002277504148, 3.100514526191881, 11.269614611906302, 5.058525798828617, 11.972550609363905, 4.373057682562814, 4.372533500259452, 3.683503626412599, 2.9907291899354536, 2.3010739675417717, 2.30050390752335, 2.3004773219756482, 2.299165689865578, 1.611106894320844, 1.611025373150236, 1.6110281963942397, 1.6110085513213803, 1.6108156296477916, 1.6107566944292135, 1.6107422253036943, 1.6106818784631143, 1.6105360108562545, 1.6103597933763545, 1.6103189739734671, 1.610193104344967, 1.6100279445707484, 1.6099238374481104, 1.609600223104182, 1.6093890679797356, 1.6093081349849618, 3.691460233826137, 2.992471366756094, 14.102604453946187, 14.158919702088767, 23.33204507629191, 9.29612658679537, 19.095003290637894, 2.3042134148739297, 3.698771494714486, 3.0073712722561603, 6.531254564455699, 3.007344216167791, 7.209422712809167, 5.92731091258253, 3.0391087697241916, 3.7338855920109895, 3.0195606282423033, 3.0516032713330725, 2.3117032459455156, 2.3426631749608506, 2.3239093061253473, 2.3081238430894415], \"Total\": [11.0, 13.0, 12.0, 11.0, 9.0, 22.0, 12.0, 10.0, 6.0, 5.0, 5.0, 5.0, 5.0, 6.0, 4.0, 4.0, 5.0, 5.0, 4.0, 4.0, 4.0, 5.0, 4.0, 5.0, 80.0, 4.0, 3.0, 34.0, 5.0, 4.0, 6.714678439071499, 5.965128435337022, 5.216043652697335, 12.652014456357225, 4.466867558035011, 4.466923172502561, 4.466873425209952, 4.466838433884835, 3.7176633944339343, 3.717668189991024, 3.7175737738509067, 3.7175954601317693, 2.9684778229257467, 2.968470699638482, 2.9683596044815364, 2.9683325713023865, 2.9683106044627023, 2.9683286640928594, 2.968280157353849, 2.9683035722399755, 2.9683006783689407, 2.9682754909596913, 2.9682616812225047, 2.9682516044923437, 2.968248310692736, 5.907959314510048, 2.219177914820612, 2.219146223226419, 2.2191149340845286, 2.2191277010919634, 8.847976087640982, 8.84730348376938, 4.409615692864399, 4.409518910679042, 80.60906645020488, 75.39670553839902, 10.923138533899706, 34.52786153331572, 26.05490975090057, 35.56284967279433, 25.91020887384333, 6.542750444483218, 7.34824867129277, 15.188556940266253, 19.395934642594725, 6.5422606398338505, 6.570517074822248, 8.732291490222316, 11.527558951909327, 7.954593175098937, 12.247117776890097, 9.365389284055615, 6.484141033204144, 5.76373417907309, 5.763783574464476, 5.763485324494105, 5.043272407501797, 11.497956086641691, 4.32272162171373, 4.322771813171278, 4.322480482109214, 3.602342069784594, 2.881984060133577, 2.881921056464787, 2.8819125984058593, 2.881977801919742, 2.8818959843235836, 2.8818279792711836, 10.144504855132244, 5.73517003062943, 2.1614807100457805, 2.1615010040918783, 2.1614618185901437, 2.1614719543274483, 2.1614294799460887, 2.161435533314784, 2.1614417146091007, 2.1614270158700415, 2.161372955046635, 2.161436291277119, 5.014688549729386, 4.293883313911314, 5.7641056282271785, 35.56284967279433, 75.39670553839902, 8.732291490222316, 11.527558951909327, 19.395934642594725, 15.188556940266253, 26.05490975090057, 80.60906645020488, 25.91020887384333, 7.954100810773417, 22.569297761101005, 8.58797479910639, 34.52786153331572, 5.735185472615073, 11.791729918576397, 5.564317908843792, 13.231998281933803, 4.872166202096443, 4.872186409055992, 4.180171716983186, 3.4883502021015893, 2.796413206844531, 2.7964246994552746, 2.7964245410209103, 2.796484872637014, 2.1044384036438135, 2.1044442294230112, 2.1044481676513564, 2.104441735103199, 2.1044553214047457, 2.104457607471988, 2.1044604029436664, 2.104472528180387, 2.104472961373183, 2.104483312878645, 2.1044779723949127, 2.1044841549329885, 2.104497749533468, 2.1044962290866494, 2.104506218043866, 2.104526869385601, 2.1045271953985787, 4.900450290438988, 4.237457562873135, 22.569297761101005, 34.52786153331572, 80.60906645020488, 25.91020887384333, 75.39670553839902, 3.545457207920606, 7.147944274306104, 5.649606027674855, 19.395934642594725, 5.67805088647399, 26.05490975090057, 35.56284967279433, 8.58797479910639, 15.188556940266253, 10.923138533899706, 11.527558951909327, 6.456437853611828, 7.9250324343667184, 7.954593175098937, 6.542750444483218], \"Category\": [\"Default\", \"Default\", \"Default\", \"Default\", \"Default\", \"Default\", \"Default\", \"Default\", \"Default\", \"Default\", \"Default\", \"Default\", \"Default\", \"Default\", \"Default\", \"Default\", \"Default\", \"Default\", \"Default\", \"Default\", \"Default\", \"Default\", \"Default\", \"Default\", \"Default\", \"Default\", \"Default\", \"Default\", \"Default\", \"Default\", \"Topic1\", \"Topic1\", \"Topic1\", \"Topic1\", \"Topic1\", \"Topic1\", \"Topic1\", \"Topic1\", \"Topic1\", \"Topic1\", \"Topic1\", \"Topic1\", \"Topic1\", \"Topic1\", \"Topic1\", \"Topic1\", \"Topic1\", \"Topic1\", \"Topic1\", \"Topic1\", \"Topic1\", \"Topic1\", \"Topic1\", \"Topic1\", \"Topic1\", \"Topic1\", \"Topic1\", \"Topic1\", \"Topic1\", \"Topic1\", \"Topic1\", \"Topic1\", \"Topic1\", \"Topic1\", \"Topic1\", \"Topic1\", \"Topic1\", \"Topic1\", \"Topic1\", \"Topic1\", \"Topic1\", \"Topic1\", \"Topic1\", \"Topic1\", \"Topic1\", \"Topic1\", \"Topic1\", \"Topic1\", \"Topic1\", \"Topic1\", \"Topic2\", \"Topic2\", \"Topic2\", \"Topic2\", \"Topic2\", \"Topic2\", \"Topic2\", \"Topic2\", \"Topic2\", \"Topic2\", \"Topic2\", \"Topic2\", \"Topic2\", \"Topic2\", \"Topic2\", \"Topic2\", \"Topic2\", \"Topic2\", \"Topic2\", \"Topic2\", \"Topic2\", \"Topic2\", \"Topic2\", \"Topic2\", \"Topic2\", \"Topic2\", \"Topic2\", \"Topic2\", \"Topic2\", \"Topic2\", \"Topic2\", \"Topic2\", \"Topic2\", \"Topic2\", \"Topic2\", \"Topic2\", \"Topic2\", \"Topic2\", \"Topic2\", \"Topic2\", \"Topic2\", \"Topic2\", \"Topic2\", \"Topic2\", \"Topic2\", \"Topic2\", \"Topic2\", \"Topic3\", \"Topic3\", \"Topic3\", \"Topic3\", \"Topic3\", \"Topic3\", \"Topic3\", \"Topic3\", \"Topic3\", \"Topic3\", \"Topic3\", \"Topic3\", \"Topic3\", \"Topic3\", \"Topic3\", \"Topic3\", \"Topic3\", \"Topic3\", \"Topic3\", \"Topic3\", \"Topic3\", \"Topic3\", \"Topic3\", \"Topic3\", \"Topic3\", \"Topic3\", \"Topic3\", \"Topic3\", \"Topic3\", \"Topic3\", \"Topic3\", \"Topic3\", \"Topic3\", \"Topic3\", \"Topic3\", \"Topic3\", \"Topic3\", \"Topic3\", \"Topic3\", \"Topic3\", \"Topic3\", \"Topic3\", \"Topic3\", \"Topic3\", \"Topic3\", \"Topic3\", \"Topic3\", \"Topic3\", \"Topic3\", \"Topic3\"], \"logprob\": [30.0, 29.0, 28.0, 27.0, 26.0, 25.0, 24.0, 23.0, 22.0, 21.0, 20.0, 19.0, 18.0, 17.0, 16.0, 15.0, 14.0, 13.0, 12.0, 11.0, 10.0, 9.0, 8.0, 7.0, 6.0, 5.0, 4.0, 3.0, 2.0, 1.0, -4.6546, -4.7834, -4.9294, -4.0442, -5.1009, -5.1009, -5.1009, -5.1011, -5.3082, -5.3083, -5.3086, -5.3087, -5.57, -5.5702, -5.5707, -5.5707, -5.5708, -5.5708, -5.5709, -5.571, -5.5711, -5.5712, -5.5713, -5.5713, -5.5713, -4.9293, -5.9265, -5.9268, -5.9269, -5.9269, -4.6531, -4.6542, -5.3077, -5.3081, -2.7608, -3.0047, -4.6536, -3.8654, -4.1104, -3.9201, -4.2617, -5.1002, -5.1, -4.781, -4.7812, -5.3075, -5.3076, -5.3046, -5.3069, -5.3075, -3.8682, -4.1497, -4.5405, -4.6683, -4.6686, -4.6689, -4.8143, -3.9998, -4.9865, -4.987, -4.9887, -5.1947, -5.4555, -5.456, -5.4563, -5.4566, -5.4568, -5.4574, -4.2304, -4.8132, -5.8117, -5.8117, -5.812, -5.8122, -5.8124, -5.8124, -5.813, -5.8131, -5.8131, -5.8132, -4.9853, -5.1959, -4.9837, -3.511, -3.1502, -4.8151, -4.6689, -4.3252, -4.5374, -4.2297, -3.5562, -4.3233, -4.9847, -4.5372, -4.9879, -4.4269, -5.1926, -3.8029, -4.604, -3.7424, -4.7496, -4.7497, -4.9212, -5.1295, -5.3917, -5.3919, -5.3919, -5.3925, -5.7481, -5.7482, -5.7482, -5.7482, -5.7483, -5.7483, -5.7483, -5.7484, -5.7485, -5.7486, -5.7486, -5.7487, -5.7488, -5.7488, -5.749, -5.7492, -5.7492, -4.919, -5.1289, -3.5787, -3.5747, -3.0752, -3.9954, -3.2756, -5.3903, -4.917, -5.124, -4.3484, -5.124, -4.2496, -4.4455, -5.1135, -4.9076, -5.1199, -5.1094, -5.387, -5.3737, -5.3818, -5.3886], \"loglift\": [30.0, 29.0, 28.0, 27.0, 26.0, 25.0, 24.0, 23.0, 22.0, 21.0, 20.0, 19.0, 18.0, 17.0, 16.0, 15.0, 14.0, 13.0, 12.0, 11.0, 10.0, 9.0, 8.0, 7.0, 6.0, 5.0, 4.0, 3.0, 2.0, 1.0, 0.8895, 0.879, 0.8672, 0.8663, 0.8508, 0.8508, 0.8507, 0.8506, 0.827, 0.827, 0.8267, 0.8265, 0.7903, 0.7901, 0.7896, 0.7896, 0.7895, 0.7895, 0.7894, 0.7893, 0.7892, 0.7892, 0.7891, 0.7891, 0.789, 0.7427, 0.7247, 0.7245, 0.7243, 0.7243, 0.6151, 0.614, 0.6568, 0.6564, 0.2979, 0.1208, 0.4038, 0.0412, 0.0777, -0.043, -0.068, 0.4698, 0.3539, -0.0532, -0.298, 0.2626, 0.2581, -0.0233, -0.3033, 0.0671, 1.0748, 1.0616, 1.0385, 1.0285, 1.0281, 1.0279, 1.016, 1.0063, 0.9979, 0.9974, 0.9958, 0.9721, 0.9343, 0.9339, 0.9335, 0.9333, 0.9331, 0.9325, 0.901, 0.8885, 0.8659, 0.8659, 0.8656, 0.8653, 0.8651, 0.8651, 0.8645, 0.8645, 0.8645, 0.8644, 0.8507, 0.7953, 0.713, 0.366, -0.0247, 0.4662, 0.3347, 0.1581, 0.1904, -0.0416, -0.4975, -0.1296, 0.39, -0.2055, 0.3101, -0.5203, 0.5091, 1.178, 1.128, 1.1233, 1.1152, 1.1151, 1.0968, 1.0694, 1.0283, 1.0281, 1.0281, 1.0275, 0.9562, 0.9561, 0.9561, 0.9561, 0.956, 0.9559, 0.9559, 0.9559, 0.9558, 0.9557, 0.9557, 0.9556, 0.9555, 0.9554, 0.9552, 0.9551, 0.955, 0.94, 0.8754, 0.7531, 0.3319, -0.0165, 0.1983, -0.15, 0.7924, 0.5645, 0.5928, 0.1348, 0.5878, -0.0615, -0.5684, 0.1845, -0.1798, -0.0625, -0.1058, 0.1962, 0.0046, -0.0072, 0.1814]}, \"token.table\": {\"Topic\": [1, 2, 3, 2, 2, 3, 1, 2, 1, 2, 3, 1, 2, 3, 1, 3, 1, 3, 3, 1, 2, 3, 3, 1, 2, 3, 1, 2, 3, 3, 3, 2, 3, 1, 1, 3, 1, 2, 1, 2, 1, 3, 3, 1, 2, 3, 2, 3, 1, 2, 3, 2, 3, 1, 2, 3, 3, 3, 2, 3, 2, 1, 3, 1, 1, 2, 3, 1, 3, 1, 1, 2, 3, 1, 1, 2, 1, 1, 2, 3, 2, 1, 2, 1, 2, 3, 1, 2, 3, 1, 2, 3, 1, 2, 2, 1, 3, 2, 2, 2, 2, 3, 1, 2, 3, 1, 2, 3, 2, 2, 2, 3, 2, 1, 3, 2, 2, 1, 2, 3, 3, 3, 1, 3, 1, 1, 1, 1, 3, 3, 1, 3, 1, 3, 3, 1, 3, 1, 1, 2, 3, 1, 3, 3, 2, 2, 1, 3, 1, 1, 1, 2, 3, 1, 2, 3, 2, 3, 3, 3, 1, 2, 3, 1, 2, 3, 2, 1, 2, 3, 1, 2, 3, 2, 1, 2, 3, 1, 1, 1, 2, 1, 3, 1, 2, 3, 2, 2, 3], \"Freq\": [0.3473534329198561, 0.2701637811598881, 0.3473534329198561, 0.6939835722659693, 0.8718137340823101, 0.17436274681646202, 0.5443473920019481, 0.4082605440014611, 0.6781727348911636, 0.22605757829705453, 0.11302878914852726, 0.4244217273353227, 0.318316295501492, 0.25200040060534784, 0.9012475063910831, 0.9503455161419709, 0.8382049195085782, 0.9503416919618303, 0.7151835576046048, 0.4585570898435176, 0.3057047265623451, 0.3057047265623451, 0.9503679067715293, 0.34355243447371714, 0.5725873907895286, 0.11451747815790571, 0.17436227734480397, 0.523086832034412, 0.34872455468960795, 0.9503462027432567, 0.9328571868552445, 0.6986682638255693, 0.2328894212751898, 0.8954879517594678, 0.846315916177675, 0.169263183235535, 0.6737789489411826, 0.9914197758904656, 0.6737908465429194, 0.9253146117427138, 0.6803463281979704, 0.22678210939932344, 0.9503323664305997, 0.1734874522602325, 0.69394980904093, 0.1734874522602325, 0.9253135568641753, 0.9503567100691026, 0.6781211816768936, 0.22604039389229785, 0.11302019694614893, 0.925291625645662, 0.9503516552082021, 0.8954821131432007, 0.9253109654086209, 0.8985827341124994, 0.8209900553636371, 0.8600053968757557, 0.2040628800890089, 0.8162515203560357, 0.6939663642370396, 0.9585809346925971, 0.7151989873718695, 0.6737861883651844, 0.42218530423502204, 0.3070438576254706, 0.26866337542228674, 0.8069732256165564, 0.9503696852771207, 0.8069574385570013, 0.2328837760688477, 0.4657675521376954, 0.34932566410327154, 0.8935647558469941, 0.6737459800285083, 0.9252953738288541, 0.6737950405963811, 0.08861596054827509, 0.26584788164482526, 0.6203117238379257, 0.6940039497103506, 0.673798075718684, 0.9252829382053743, 0.25778597897621686, 0.3609003705667036, 0.3609003705667036, 0.26024590396938335, 0.43374317328230555, 0.26024590396938335, 0.1761167731663267, 0.3522335463326534, 0.5283503194989801, 0.9012602138271301, 0.9609851472295249, 0.925310640924914, 0.2359905639555166, 0.7079716918665497, 0.9798223727907313, 0.8674857297126323, 0.8675306205345252, 0.9252997128140527, 0.9503708117164491, 0.4054696519936946, 0.2027348259968473, 0.4054696519936946, 0.5492926764024039, 0.1830975588008013, 0.27464633820120193, 0.8327915400270104, 0.8674931640938528, 0.3540069856557976, 0.5310104784836964, 0.9253322111086669, 0.6737475967822663, 0.8209866503804435, 0.9253083192029087, 0.9253377559528345, 0.27980072636956205, 0.13990036318478102, 0.5596014527391241, 0.9503569056942178, 0.9568984890617805, 0.6737728127617902, 0.9503544471525088, 0.6737839352098473, 0.9012550287285687, 0.8954709641354832, 0.673791905802304, 0.9503646761504917, 0.950352035466736, 0.6803313959659961, 0.22677713198866536, 0.8069584794824577, 0.9503723162136846, 0.9503623813507966, 0.6113636816719428, 0.3056818408359714, 0.6737798358360741, 0.4565850702216095, 0.3043900468144063, 0.15219502340720314, 0.8694267650376307, 0.0790387968216028, 0.7151989468515233, 0.925394577617189, 0.925342955213066, 0.07557437498804255, 0.9068924998565105, 0.9012346358726586, 0.8069779330545479, 0.3291951973886698, 0.39503423686640377, 0.26335615791093586, 0.5086276495377499, 0.19848883884399995, 0.28532770583824996, 0.8697197940787046, 0.08697197940787046, 0.7152018861535836, 0.9503322192143104, 0.36555000849510194, 0.47802693418590253, 0.16871538853620088, 0.19715107130025894, 0.7886042852010358, 0.9503636437716276, 0.6939875730696868, 0.3097683343890889, 0.3097683343890889, 0.3097683343890889, 0.2514426265871692, 0.5028852531743384, 0.2514426265871692, 0.9253345923962877, 0.2523648977544933, 0.37854734663173994, 0.2523648977544933, 0.6737973280206674, 0.8954809369401354, 0.6737855314747127, 0.6939678711847679, 0.2820510702444764, 0.5641021404889528, 0.377140594617862, 0.25142706307857465, 0.25142706307857465, 0.69398153551554, 0.7976567159322102, 0.19941417898305255], \"Term\": [\"a\", \"a\", \"a\", \"ai\", \"allows\", \"allows\", \"also\", \"also\", \"an\", \"an\", \"an\", \"and\", \"and\", \"and\", \"application.\", \"applications\", \"arduino\", \"area\", \"areas\", \"article\", \"article\", \"article\", \"articles\", \"as\", \"as\", \"as\", \"been\", \"been\", \"been\", \"benefits\", \"blockchain\", \"by\", \"by\", \"cam\", \"can\", \"can\", \"capture\", \"classification\", \"commands\", \"concepts.\", \"control\", \"control\", \"covering\", \"create\", \"create\", \"create\", \"creative\", \"current\", \"data\", \"data\", \"data\", \"decisions\", \"definition\", \"detecting\", \"easy\", \"education\", \"education,\", \"education.\", \"educational\", \"educational\", \"enable\", \"esp32\", \"explore\", \"focuses\", \"for\", \"for\", \"for\", \"from\", \"further\", \"hardware\", \"has\", \"has\", \"has\", \"home\", \"images\", \"images,\", \"implementation\", \"in\", \"in\", \"in\", \"interface\", \"interface.\", \"introduce\", \"is\", \"is\", \"is\", \"it\", \"it\", \"it\", \"its\", \"its\", \"its\", \"ldr\", \"learning\", \"learning,\", \"literature\", \"literature\", \"machine\", \"ml\", \"models\", \"models.\", \"need\", \"of\", \"of\", \"of\", \"on\", \"on\", \"on\", \"or\", \"own\", \"paper\", \"paper\", \"people\", \"pir\", \"potential\", \"prior\", \"project\", \"research\", \"research\", \"research\", \"researchers\", \"review\", \"security\", \"security,\", \"sending\", \"sensor,\", \"sensors,\", \"server\", \"settings,\", \"shows\", \"smart\", \"smart\", \"software\", \"stages\", \"still\", \"study\", \"study\", \"success\", \"such\", \"such\", \"such\", \"system\", \"system\", \"systematic\", \"teachable\", \"technical\", \"technology\", \"technology\", \"temperature\", \"testing\", \"that\", \"that\", \"that\", \"the\", \"the\", \"the\", \"their\", \"their\", \"there\", \"they\", \"to\", \"to\", \"to\", \"tool\", \"tool\", \"topic,\", \"train\", \"use\", \"use\", \"use\", \"used\", \"used\", \"used\", \"users\", \"using\", \"using\", \"using\", \"via\", \"was\", \"web\", \"web-based\", \"were\", \"were\", \"with\", \"with\", \"with\", \"within\", \"without\", \"without\"]}, \"R\": 30, \"lambda.step\": 0.01, \"plot.opts\": {\"xlab\": \"PC1\", \"ylab\": \"PC2\"}, \"topic.order\": [3, 2, 1]};\n",
       "\n",
       "function LDAvis_load_lib(url, callback){\n",
       "  var s = document.createElement('script');\n",
       "  s.src = url;\n",
       "  s.async = true;\n",
       "  s.onreadystatechange = s.onload = callback;\n",
       "  s.onerror = function(){console.warn(\"failed to load library \" + url);};\n",
       "  document.getElementsByTagName(\"head\")[0].appendChild(s);\n",
       "}\n",
       "\n",
       "if(typeof(LDAvis) !== \"undefined\"){\n",
       "   // already loaded: just create the visualization\n",
       "   !function(LDAvis){\n",
       "       new LDAvis(\"#\" + \"ldavis_el569617975222001609220762114\", ldavis_el569617975222001609220762114_data);\n",
       "   }(LDAvis);\n",
       "}else if(typeof define === \"function\" && define.amd){\n",
       "   // require.js is available: use it to load d3/LDAvis\n",
       "   require.config({paths: {d3: \"https://d3js.org/d3.v5\"}});\n",
       "   require([\"d3\"], function(d3){\n",
       "      window.d3 = d3;\n",
       "      LDAvis_load_lib(\"https://cdn.jsdelivr.net/gh/bmabey/pyLDAvis@3.4.0/pyLDAvis/js/ldavis.v3.0.0.js\", function(){\n",
       "        new LDAvis(\"#\" + \"ldavis_el569617975222001609220762114\", ldavis_el569617975222001609220762114_data);\n",
       "      });\n",
       "    });\n",
       "}else{\n",
       "    // require.js not available: dynamically load d3 & LDAvis\n",
       "    LDAvis_load_lib(\"https://d3js.org/d3.v5.js\", function(){\n",
       "         LDAvis_load_lib(\"https://cdn.jsdelivr.net/gh/bmabey/pyLDAvis@3.4.0/pyLDAvis/js/ldavis.v3.0.0.js\", function(){\n",
       "                 new LDAvis(\"#\" + \"ldavis_el569617975222001609220762114\", ldavis_el569617975222001609220762114_data);\n",
       "            })\n",
       "         });\n",
       "}\n",
       "</script>"
      ],
      "text/plain": [
       "<IPython.core.display.HTML object>"
      ]
     },
     "execution_count": 46,
     "metadata": {},
     "output_type": "execute_result"
    }
   ],
   "source": [
    "# 輸出主題模型分析結果\n",
    "import pyLDAvis.gensim\n",
    "pyLDAvis.enable_notebook()\n",
    "vis = pyLDAvis.gensim.prepare(lda_model, corpus, dictionary)\n",
    "pyLDAvis.display(vis)"
   ]
  }
 ],
 "metadata": {
  "kernelspec": {
   "display_name": "Python 3 (ipykernel)",
   "language": "python",
   "name": "python3"
  },
  "language_info": {
   "codemirror_mode": {
    "name": "ipython",
    "version": 3
   },
   "file_extension": ".py",
   "mimetype": "text/x-python",
   "name": "python",
   "nbconvert_exporter": "python",
   "pygments_lexer": "ipython3",
   "version": "3.9.13"
  },
  "vscode": {
   "interpreter": {
    "hash": "a552c2ea7a7b6736ba4a8b66efcb40eda8d77c5e9d980e5b81f29aecaaefb085"
   }
  }
 },
 "nbformat": 4,
 "nbformat_minor": 5
}
